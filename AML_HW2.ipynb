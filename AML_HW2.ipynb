{
  "nbformat": 4,
  "nbformat_minor": 0,
  "metadata": {
    "colab": {
      "name": "AML_HW2.ipynb",
      "provenance": [],
      "collapsed_sections": [],
      "authorship_tag": "ABX9TyO7MldaJlk2E642InIudtZZ",
      "include_colab_link": true
    },
    "kernelspec": {
      "name": "python3",
      "display_name": "Python 3"
    },
    "language_info": {
      "name": "python"
    },
    "accelerator": "GPU"
  },
  "cells": [
    {
      "cell_type": "markdown",
      "metadata": {
        "id": "view-in-github",
        "colab_type": "text"
      },
      "source": [
        "<a href=\"https://colab.research.google.com/github/ikram-hamizi/AML-DS-2021/blob/main/AML_HW2.ipynb\" target=\"_parent\"><img src=\"https://colab.research.google.com/assets/colab-badge.svg\" alt=\"Open In Colab\"/></a>"
      ]
    },
    {
      "cell_type": "markdown",
      "metadata": {
        "id": "iv3SMM5dSXZ_"
      },
      "source": [
        "Innopolis University - Spring 2021\n",
        "- **Student**: Ikram Hamizi\n",
        "- **Professor**: Muhammad Fahim\n",
        "- **Teaching Assistant**: ‪Gcinizwe Dlamini‬\n",
        "- **Homework (2) Task**: Collaborative Filtering for Recommender Systems [Link](https://hackmd.io/@gFZmdMTOQxGFHEFqqU8pMQ/B1z1pP6L_)"
      ]
    },
    {
      "cell_type": "markdown",
      "metadata": {
        "id": "oAXn-mewTNUg"
      },
      "source": [
        "##Data Exploration"
      ]
    },
    {
      "cell_type": "code",
      "metadata": {
        "colab": {
          "base_uri": "https://localhost:8080/"
        },
        "id": "tC6_ZzSBOYwq",
        "outputId": "aa76944b-fd0a-4098-a80e-6fb6263babc4"
      },
      "source": [
        "from google.colab import drive\n",
        "drive.mount('/content/drive')"
      ],
      "execution_count": 1,
      "outputs": [
        {
          "output_type": "stream",
          "text": [
            "Mounted at /content/drive\n"
          ],
          "name": "stdout"
        }
      ]
    },
    {
      "cell_type": "code",
      "metadata": {
        "colab": {
          "base_uri": "https://localhost:8080/"
        },
        "id": "PrbXDtFaZqoI",
        "outputId": "440f8d9f-390e-4cbd-8baf-d3925a0fbc78"
      },
      "source": [
        "!pip install wget"
      ],
      "execution_count": 2,
      "outputs": [
        {
          "output_type": "stream",
          "text": [
            "Collecting wget\n",
            "  Downloading https://files.pythonhosted.org/packages/47/6a/62e288da7bcda82b935ff0c6cfe542970f04e29c756b0e147251b2fb251f/wget-3.2.zip\n",
            "Building wheels for collected packages: wget\n",
            "  Building wheel for wget (setup.py) ... \u001b[?25l\u001b[?25hdone\n",
            "  Created wheel for wget: filename=wget-3.2-cp37-none-any.whl size=9681 sha256=d9661d3b4e70138fcc603a5111271c5ce04de4dc158b0d2e730a0f870fee483e\n",
            "  Stored in directory: /root/.cache/pip/wheels/40/15/30/7d8f7cea2902b4db79e3fea550d7d7b85ecb27ef992b618f3f\n",
            "Successfully built wget\n",
            "Installing collected packages: wget\n",
            "Successfully installed wget-3.2\n"
          ],
          "name": "stdout"
        }
      ]
    },
    {
      "cell_type": "code",
      "metadata": {
        "id": "aiB7ELZtjEZH"
      },
      "source": [
        "# import libraries\n",
        "import pandas as pd\n",
        "import numpy as np\n",
        "import torch\n",
        "import torch.nn as nn\n",
        "import torch.optim as optim\n",
        "from scipy.sparse import csr_matrix\n",
        "from tqdm import tqdm\n",
        "import matplotlib.pyplot as plt\n",
        "import seaborn as sns\n",
        "import wget\n",
        "from zipfile import ZipFile\n",
        "from sklearn.metrics import mean_squared_error\n",
        "\n",
        "# Setting the environment\n",
        "device = torch.device('cuda:0' if torch.cuda.is_available() else 'cpu')\n",
        "torch.set_default_dtype(torch.float64)"
      ],
      "execution_count": 3,
      "outputs": []
    },
    {
      "cell_type": "code",
      "metadata": {
        "id": "JfsltxOZiOf-"
      },
      "source": [
        "# Download the data\n",
        "wget.download(\"https://github.com/Gci04/AML-DS-2021/raw/main/data/collaborative-filtering.zip\")\n",
        "\n",
        "with ZipFile(\"collaborative-filtering.zip\", 'r') as f:\n",
        "  f.extractall()"
      ],
      "execution_count": 4,
      "outputs": []
    },
    {
      "cell_type": "code",
      "metadata": {
        "colab": {
          "base_uri": "https://localhost:8080/",
          "height": 202
        },
        "id": "XvjNGudjjAVj",
        "outputId": "85d80f82-89d6-47d8-c489-9ce3391a0191"
      },
      "source": [
        "# Read the data\n",
        "train = pd.read_csv(\"collaborative-filtering/train.csv\")\n",
        "test = pd.read_csv(\"collaborative-filtering/test.csv\")\n",
        "\n",
        "train.head()"
      ],
      "execution_count": 5,
      "outputs": [
        {
          "output_type": "execute_result",
          "data": {
            "text/html": [
              "<div>\n",
              "<style scoped>\n",
              "    .dataframe tbody tr th:only-of-type {\n",
              "        vertical-align: middle;\n",
              "    }\n",
              "\n",
              "    .dataframe tbody tr th {\n",
              "        vertical-align: top;\n",
              "    }\n",
              "\n",
              "    .dataframe thead th {\n",
              "        text-align: right;\n",
              "    }\n",
              "</style>\n",
              "<table border=\"1\" class=\"dataframe\">\n",
              "  <thead>\n",
              "    <tr style=\"text-align: right;\">\n",
              "      <th></th>\n",
              "      <th>userId</th>\n",
              "      <th>movieId</th>\n",
              "      <th>rating</th>\n",
              "    </tr>\n",
              "  </thead>\n",
              "  <tbody>\n",
              "    <tr>\n",
              "      <th>0</th>\n",
              "      <td>1</td>\n",
              "      <td>32</td>\n",
              "      <td>3.5</td>\n",
              "    </tr>\n",
              "    <tr>\n",
              "      <th>1</th>\n",
              "      <td>1</td>\n",
              "      <td>47</td>\n",
              "      <td>3.5</td>\n",
              "    </tr>\n",
              "    <tr>\n",
              "      <th>2</th>\n",
              "      <td>1</td>\n",
              "      <td>50</td>\n",
              "      <td>3.5</td>\n",
              "    </tr>\n",
              "    <tr>\n",
              "      <th>3</th>\n",
              "      <td>1</td>\n",
              "      <td>253</td>\n",
              "      <td>4.0</td>\n",
              "    </tr>\n",
              "    <tr>\n",
              "      <th>4</th>\n",
              "      <td>1</td>\n",
              "      <td>260</td>\n",
              "      <td>4.0</td>\n",
              "    </tr>\n",
              "  </tbody>\n",
              "</table>\n",
              "</div>"
            ],
            "text/plain": [
              "   userId  movieId  rating\n",
              "0       1       32     3.5\n",
              "1       1       47     3.5\n",
              "2       1       50     3.5\n",
              "3       1      253     4.0\n",
              "4       1      260     4.0"
            ]
          },
          "metadata": {
            "tags": []
          },
          "execution_count": 5
        }
      ]
    },
    {
      "cell_type": "code",
      "metadata": {
        "colab": {
          "base_uri": "https://localhost:8080/"
        },
        "id": "M0Vu91jmjXDv",
        "outputId": "bf4f1b8f-188b-4192-b108-4d1d4a836e7a"
      },
      "source": [
        "# Print important information\n",
        "unique_users = train['userId'].unique()\n",
        "unique_movies = train['movieId'].unique()\n",
        "\n",
        "U = len(unique_users)\n",
        "I = len(unique_movies) \n",
        "print(\"Number of unique users: \", U)\n",
        "print(\"Number of unique movies: \", I)\n",
        "print(\"Length of the dataset: \", len(train))\n",
        "print(\"Length of the sparse matrix: \", U*I) #UxI"
      ],
      "execution_count": 6,
      "outputs": [
        {
          "output_type": "stream",
          "text": [
            "Number of unique users:  6687\n",
            "Number of unique movies:  5064\n",
            "Length of the dataset:  761972\n",
            "Length of the sparse matrix:  33862968\n"
          ],
          "name": "stdout"
        }
      ]
    },
    {
      "cell_type": "code",
      "metadata": {
        "colab": {
          "base_uri": "https://localhost:8080/"
        },
        "id": "lscsnnoEtOs-",
        "outputId": "8e6b6f54-177e-4eaa-cb6d-dbab1b5a90c3"
      },
      "source": [
        "known_ratings_percentage = 100*(len(train))/(U*I)\n",
        "print(f\"The percentage of known ratings: θ% = {known_ratings_percentage}%\")"
      ],
      "execution_count": 7,
      "outputs": [
        {
          "output_type": "stream",
          "text": [
            "The percentage of known ratings: θ% = 2.2501630689902905%\n"
          ],
          "name": "stdout"
        }
      ]
    },
    {
      "cell_type": "code",
      "metadata": {
        "colab": {
          "base_uri": "https://localhost:8080/",
          "height": 312
        },
        "id": "r_QoNYGLQYD7",
        "outputId": "8724f14d-6565-4031-e6b7-cbe1d9df60b8"
      },
      "source": [
        "# Print the histogram\n",
        "sns.histplot(data=train, x=\"rating\", binwidth=1).set_title(\"Histogram of ratings frequency (binned)\")"
      ],
      "execution_count": 8,
      "outputs": [
        {
          "output_type": "execute_result",
          "data": {
            "text/plain": [
              "Text(0.5, 1.0, 'Histogram of ratings frequency (binned)')"
            ]
          },
          "metadata": {
            "tags": []
          },
          "execution_count": 8
        },
        {
          "output_type": "display_data",
          "data": {
            "image/png": "[encoded data removed]",
            "text/plain": [
              "<Figure size 432x288 with 1 Axes>"
            ]
          },
          "metadata": {
            "tags": [],
            "needs_background": "light"
          }
        }
      ]
    },
    {
      "cell_type": "markdown",
      "metadata": {
        "id": "-jGe4JaZKGpj"
      },
      "source": [
        "\n",
        "\n",
        "---\n",
        "\n",
        "\n",
        "#1. Collaborative Filtering model: **Matrix Factorization**\n"
      ]
    },
    {
      "cell_type": "code",
      "metadata": {
        "colab": {
          "base_uri": "https://localhost:8080/",
          "height": 282
        },
        "id": "8cJWgln61qE3",
        "outputId": "9c7120d9-912a-4a77-e8bc-8863358dfa02"
      },
      "source": [
        "# TRAINING SET: Get the the user-item matrix (dense)\n",
        "df_movie_features = train.pivot(index='userId', columns='movieId', values='rating').fillna(0)\n",
        "df_movie_features.head()"
      ],
      "execution_count": 9,
      "outputs": [
        {
          "output_type": "execute_result",
          "data": {
            "text/html": [
              "<div>\n",
              "<style scoped>\n",
              "    .dataframe tbody tr th:only-of-type {\n",
              "        vertical-align: middle;\n",
              "    }\n",
              "\n",
              "    .dataframe tbody tr th {\n",
              "        vertical-align: top;\n",
              "    }\n",
              "\n",
              "    .dataframe thead th {\n",
              "        text-align: right;\n",
              "    }\n",
              "</style>\n",
              "<table border=\"1\" class=\"dataframe\">\n",
              "  <thead>\n",
              "    <tr style=\"text-align: right;\">\n",
              "      <th>movieId</th>\n",
              "      <th>1</th>\n",
              "      <th>2</th>\n",
              "      <th>3</th>\n",
              "      <th>4</th>\n",
              "      <th>5</th>\n",
              "      <th>6</th>\n",
              "      <th>7</th>\n",
              "      <th>8</th>\n",
              "      <th>9</th>\n",
              "      <th>10</th>\n",
              "      <th>11</th>\n",
              "      <th>12</th>\n",
              "      <th>13</th>\n",
              "      <th>14</th>\n",
              "      <th>15</th>\n",
              "      <th>16</th>\n",
              "      <th>17</th>\n",
              "      <th>18</th>\n",
              "      <th>19</th>\n",
              "      <th>20</th>\n",
              "      <th>21</th>\n",
              "      <th>22</th>\n",
              "      <th>23</th>\n",
              "      <th>24</th>\n",
              "      <th>25</th>\n",
              "      <th>26</th>\n",
              "      <th>27</th>\n",
              "      <th>28</th>\n",
              "      <th>29</th>\n",
              "      <th>30</th>\n",
              "      <th>31</th>\n",
              "      <th>32</th>\n",
              "      <th>34</th>\n",
              "      <th>35</th>\n",
              "      <th>36</th>\n",
              "      <th>38</th>\n",
              "      <th>39</th>\n",
              "      <th>40</th>\n",
              "      <th>41</th>\n",
              "      <th>42</th>\n",
              "      <th>...</th>\n",
              "      <th>106002</th>\n",
              "      <th>106072</th>\n",
              "      <th>106100</th>\n",
              "      <th>106487</th>\n",
              "      <th>106489</th>\n",
              "      <th>106642</th>\n",
              "      <th>106696</th>\n",
              "      <th>106766</th>\n",
              "      <th>106782</th>\n",
              "      <th>106916</th>\n",
              "      <th>106918</th>\n",
              "      <th>106920</th>\n",
              "      <th>107141</th>\n",
              "      <th>107406</th>\n",
              "      <th>108190</th>\n",
              "      <th>108932</th>\n",
              "      <th>109374</th>\n",
              "      <th>109487</th>\n",
              "      <th>110102</th>\n",
              "      <th>110553</th>\n",
              "      <th>110730</th>\n",
              "      <th>111360</th>\n",
              "      <th>111362</th>\n",
              "      <th>111364</th>\n",
              "      <th>111659</th>\n",
              "      <th>111759</th>\n",
              "      <th>112138</th>\n",
              "      <th>112175</th>\n",
              "      <th>112183</th>\n",
              "      <th>112290</th>\n",
              "      <th>112552</th>\n",
              "      <th>112556</th>\n",
              "      <th>112623</th>\n",
              "      <th>112852</th>\n",
              "      <th>114180</th>\n",
              "      <th>115569</th>\n",
              "      <th>115617</th>\n",
              "      <th>116797</th>\n",
              "      <th>116823</th>\n",
              "      <th>118696</th>\n",
              "    </tr>\n",
              "    <tr>\n",
              "      <th>userId</th>\n",
              "      <th></th>\n",
              "      <th></th>\n",
              "      <th></th>\n",
              "      <th></th>\n",
              "      <th></th>\n",
              "      <th></th>\n",
              "      <th></th>\n",
              "      <th></th>\n",
              "      <th></th>\n",
              "      <th></th>\n",
              "      <th></th>\n",
              "      <th></th>\n",
              "      <th></th>\n",
              "      <th></th>\n",
              "      <th></th>\n",
              "      <th></th>\n",
              "      <th></th>\n",
              "      <th></th>\n",
              "      <th></th>\n",
              "      <th></th>\n",
              "      <th></th>\n",
              "      <th></th>\n",
              "      <th></th>\n",
              "      <th></th>\n",
              "      <th></th>\n",
              "      <th></th>\n",
              "      <th></th>\n",
              "      <th></th>\n",
              "      <th></th>\n",
              "      <th></th>\n",
              "      <th></th>\n",
              "      <th></th>\n",
              "      <th></th>\n",
              "      <th></th>\n",
              "      <th></th>\n",
              "      <th></th>\n",
              "      <th></th>\n",
              "      <th></th>\n",
              "      <th></th>\n",
              "      <th></th>\n",
              "      <th></th>\n",
              "      <th></th>\n",
              "      <th></th>\n",
              "      <th></th>\n",
              "      <th></th>\n",
              "      <th></th>\n",
              "      <th></th>\n",
              "      <th></th>\n",
              "      <th></th>\n",
              "      <th></th>\n",
              "      <th></th>\n",
              "      <th></th>\n",
              "      <th></th>\n",
              "      <th></th>\n",
              "      <th></th>\n",
              "      <th></th>\n",
              "      <th></th>\n",
              "      <th></th>\n",
              "      <th></th>\n",
              "      <th></th>\n",
              "      <th></th>\n",
              "      <th></th>\n",
              "      <th></th>\n",
              "      <th></th>\n",
              "      <th></th>\n",
              "      <th></th>\n",
              "      <th></th>\n",
              "      <th></th>\n",
              "      <th></th>\n",
              "      <th></th>\n",
              "      <th></th>\n",
              "      <th></th>\n",
              "      <th></th>\n",
              "      <th></th>\n",
              "      <th></th>\n",
              "      <th></th>\n",
              "      <th></th>\n",
              "      <th></th>\n",
              "      <th></th>\n",
              "      <th></th>\n",
              "      <th></th>\n",
              "    </tr>\n",
              "  </thead>\n",
              "  <tbody>\n",
              "    <tr>\n",
              "      <th>1</th>\n",
              "      <td>0.0</td>\n",
              "      <td>0.0</td>\n",
              "      <td>0.0</td>\n",
              "      <td>0.0</td>\n",
              "      <td>0.0</td>\n",
              "      <td>0.0</td>\n",
              "      <td>0.0</td>\n",
              "      <td>0.0</td>\n",
              "      <td>0.0</td>\n",
              "      <td>0.0</td>\n",
              "      <td>0.0</td>\n",
              "      <td>0.0</td>\n",
              "      <td>0.0</td>\n",
              "      <td>0.0</td>\n",
              "      <td>0.0</td>\n",
              "      <td>0.0</td>\n",
              "      <td>0.0</td>\n",
              "      <td>0.0</td>\n",
              "      <td>0.0</td>\n",
              "      <td>0.0</td>\n",
              "      <td>0.0</td>\n",
              "      <td>0.0</td>\n",
              "      <td>0.0</td>\n",
              "      <td>0.0</td>\n",
              "      <td>0.0</td>\n",
              "      <td>0.0</td>\n",
              "      <td>0.0</td>\n",
              "      <td>0.0</td>\n",
              "      <td>0.0</td>\n",
              "      <td>0.0</td>\n",
              "      <td>0.0</td>\n",
              "      <td>3.5</td>\n",
              "      <td>0.0</td>\n",
              "      <td>0.0</td>\n",
              "      <td>0.0</td>\n",
              "      <td>0.0</td>\n",
              "      <td>0.0</td>\n",
              "      <td>0.0</td>\n",
              "      <td>0.0</td>\n",
              "      <td>0.0</td>\n",
              "      <td>...</td>\n",
              "      <td>0.0</td>\n",
              "      <td>0.0</td>\n",
              "      <td>0.0</td>\n",
              "      <td>0.0</td>\n",
              "      <td>0.0</td>\n",
              "      <td>0.0</td>\n",
              "      <td>0.0</td>\n",
              "      <td>0.0</td>\n",
              "      <td>0.0</td>\n",
              "      <td>0.0</td>\n",
              "      <td>0.0</td>\n",
              "      <td>0.0</td>\n",
              "      <td>0.0</td>\n",
              "      <td>0.0</td>\n",
              "      <td>0.0</td>\n",
              "      <td>0.0</td>\n",
              "      <td>0.0</td>\n",
              "      <td>0.0</td>\n",
              "      <td>0.0</td>\n",
              "      <td>0.0</td>\n",
              "      <td>0.0</td>\n",
              "      <td>0.0</td>\n",
              "      <td>0.0</td>\n",
              "      <td>0.0</td>\n",
              "      <td>0.0</td>\n",
              "      <td>0.0</td>\n",
              "      <td>0.0</td>\n",
              "      <td>0.0</td>\n",
              "      <td>0.0</td>\n",
              "      <td>0.0</td>\n",
              "      <td>0.0</td>\n",
              "      <td>0.0</td>\n",
              "      <td>0.0</td>\n",
              "      <td>0.0</td>\n",
              "      <td>0.0</td>\n",
              "      <td>0.0</td>\n",
              "      <td>0.0</td>\n",
              "      <td>0.0</td>\n",
              "      <td>0.0</td>\n",
              "      <td>0.0</td>\n",
              "    </tr>\n",
              "    <tr>\n",
              "      <th>2</th>\n",
              "      <td>0.0</td>\n",
              "      <td>0.0</td>\n",
              "      <td>4.0</td>\n",
              "      <td>0.0</td>\n",
              "      <td>0.0</td>\n",
              "      <td>0.0</td>\n",
              "      <td>0.0</td>\n",
              "      <td>0.0</td>\n",
              "      <td>0.0</td>\n",
              "      <td>0.0</td>\n",
              "      <td>0.0</td>\n",
              "      <td>0.0</td>\n",
              "      <td>0.0</td>\n",
              "      <td>0.0</td>\n",
              "      <td>0.0</td>\n",
              "      <td>0.0</td>\n",
              "      <td>0.0</td>\n",
              "      <td>0.0</td>\n",
              "      <td>0.0</td>\n",
              "      <td>0.0</td>\n",
              "      <td>0.0</td>\n",
              "      <td>0.0</td>\n",
              "      <td>0.0</td>\n",
              "      <td>0.0</td>\n",
              "      <td>0.0</td>\n",
              "      <td>0.0</td>\n",
              "      <td>0.0</td>\n",
              "      <td>0.0</td>\n",
              "      <td>0.0</td>\n",
              "      <td>0.0</td>\n",
              "      <td>0.0</td>\n",
              "      <td>0.0</td>\n",
              "      <td>0.0</td>\n",
              "      <td>0.0</td>\n",
              "      <td>0.0</td>\n",
              "      <td>0.0</td>\n",
              "      <td>0.0</td>\n",
              "      <td>0.0</td>\n",
              "      <td>0.0</td>\n",
              "      <td>0.0</td>\n",
              "      <td>...</td>\n",
              "      <td>0.0</td>\n",
              "      <td>0.0</td>\n",
              "      <td>0.0</td>\n",
              "      <td>0.0</td>\n",
              "      <td>0.0</td>\n",
              "      <td>0.0</td>\n",
              "      <td>0.0</td>\n",
              "      <td>0.0</td>\n",
              "      <td>0.0</td>\n",
              "      <td>0.0</td>\n",
              "      <td>0.0</td>\n",
              "      <td>0.0</td>\n",
              "      <td>0.0</td>\n",
              "      <td>0.0</td>\n",
              "      <td>0.0</td>\n",
              "      <td>0.0</td>\n",
              "      <td>0.0</td>\n",
              "      <td>0.0</td>\n",
              "      <td>0.0</td>\n",
              "      <td>0.0</td>\n",
              "      <td>0.0</td>\n",
              "      <td>0.0</td>\n",
              "      <td>0.0</td>\n",
              "      <td>0.0</td>\n",
              "      <td>0.0</td>\n",
              "      <td>0.0</td>\n",
              "      <td>0.0</td>\n",
              "      <td>0.0</td>\n",
              "      <td>0.0</td>\n",
              "      <td>0.0</td>\n",
              "      <td>0.0</td>\n",
              "      <td>0.0</td>\n",
              "      <td>0.0</td>\n",
              "      <td>0.0</td>\n",
              "      <td>0.0</td>\n",
              "      <td>0.0</td>\n",
              "      <td>0.0</td>\n",
              "      <td>0.0</td>\n",
              "      <td>0.0</td>\n",
              "      <td>0.0</td>\n",
              "    </tr>\n",
              "    <tr>\n",
              "      <th>3</th>\n",
              "      <td>4.0</td>\n",
              "      <td>0.0</td>\n",
              "      <td>0.0</td>\n",
              "      <td>0.0</td>\n",
              "      <td>0.0</td>\n",
              "      <td>0.0</td>\n",
              "      <td>0.0</td>\n",
              "      <td>0.0</td>\n",
              "      <td>0.0</td>\n",
              "      <td>0.0</td>\n",
              "      <td>0.0</td>\n",
              "      <td>0.0</td>\n",
              "      <td>0.0</td>\n",
              "      <td>0.0</td>\n",
              "      <td>0.0</td>\n",
              "      <td>0.0</td>\n",
              "      <td>0.0</td>\n",
              "      <td>0.0</td>\n",
              "      <td>0.0</td>\n",
              "      <td>0.0</td>\n",
              "      <td>0.0</td>\n",
              "      <td>0.0</td>\n",
              "      <td>0.0</td>\n",
              "      <td>0.0</td>\n",
              "      <td>0.0</td>\n",
              "      <td>0.0</td>\n",
              "      <td>0.0</td>\n",
              "      <td>0.0</td>\n",
              "      <td>0.0</td>\n",
              "      <td>0.0</td>\n",
              "      <td>0.0</td>\n",
              "      <td>0.0</td>\n",
              "      <td>0.0</td>\n",
              "      <td>0.0</td>\n",
              "      <td>0.0</td>\n",
              "      <td>0.0</td>\n",
              "      <td>0.0</td>\n",
              "      <td>0.0</td>\n",
              "      <td>0.0</td>\n",
              "      <td>0.0</td>\n",
              "      <td>...</td>\n",
              "      <td>0.0</td>\n",
              "      <td>0.0</td>\n",
              "      <td>0.0</td>\n",
              "      <td>0.0</td>\n",
              "      <td>0.0</td>\n",
              "      <td>0.0</td>\n",
              "      <td>0.0</td>\n",
              "      <td>0.0</td>\n",
              "      <td>0.0</td>\n",
              "      <td>0.0</td>\n",
              "      <td>0.0</td>\n",
              "      <td>0.0</td>\n",
              "      <td>0.0</td>\n",
              "      <td>0.0</td>\n",
              "      <td>0.0</td>\n",
              "      <td>0.0</td>\n",
              "      <td>0.0</td>\n",
              "      <td>0.0</td>\n",
              "      <td>0.0</td>\n",
              "      <td>0.0</td>\n",
              "      <td>0.0</td>\n",
              "      <td>0.0</td>\n",
              "      <td>0.0</td>\n",
              "      <td>0.0</td>\n",
              "      <td>0.0</td>\n",
              "      <td>0.0</td>\n",
              "      <td>0.0</td>\n",
              "      <td>0.0</td>\n",
              "      <td>0.0</td>\n",
              "      <td>0.0</td>\n",
              "      <td>0.0</td>\n",
              "      <td>0.0</td>\n",
              "      <td>0.0</td>\n",
              "      <td>0.0</td>\n",
              "      <td>0.0</td>\n",
              "      <td>0.0</td>\n",
              "      <td>0.0</td>\n",
              "      <td>0.0</td>\n",
              "      <td>0.0</td>\n",
              "      <td>0.0</td>\n",
              "    </tr>\n",
              "    <tr>\n",
              "      <th>4</th>\n",
              "      <td>0.0</td>\n",
              "      <td>0.0</td>\n",
              "      <td>0.0</td>\n",
              "      <td>0.0</td>\n",
              "      <td>0.0</td>\n",
              "      <td>3.0</td>\n",
              "      <td>0.0</td>\n",
              "      <td>0.0</td>\n",
              "      <td>0.0</td>\n",
              "      <td>4.0</td>\n",
              "      <td>0.0</td>\n",
              "      <td>0.0</td>\n",
              "      <td>0.0</td>\n",
              "      <td>0.0</td>\n",
              "      <td>0.0</td>\n",
              "      <td>0.0</td>\n",
              "      <td>0.0</td>\n",
              "      <td>0.0</td>\n",
              "      <td>3.0</td>\n",
              "      <td>0.0</td>\n",
              "      <td>0.0</td>\n",
              "      <td>0.0</td>\n",
              "      <td>0.0</td>\n",
              "      <td>0.0</td>\n",
              "      <td>0.0</td>\n",
              "      <td>0.0</td>\n",
              "      <td>0.0</td>\n",
              "      <td>0.0</td>\n",
              "      <td>0.0</td>\n",
              "      <td>0.0</td>\n",
              "      <td>0.0</td>\n",
              "      <td>0.0</td>\n",
              "      <td>0.0</td>\n",
              "      <td>0.0</td>\n",
              "      <td>0.0</td>\n",
              "      <td>0.0</td>\n",
              "      <td>0.0</td>\n",
              "      <td>0.0</td>\n",
              "      <td>0.0</td>\n",
              "      <td>0.0</td>\n",
              "      <td>...</td>\n",
              "      <td>0.0</td>\n",
              "      <td>0.0</td>\n",
              "      <td>0.0</td>\n",
              "      <td>0.0</td>\n",
              "      <td>0.0</td>\n",
              "      <td>0.0</td>\n",
              "      <td>0.0</td>\n",
              "      <td>0.0</td>\n",
              "      <td>0.0</td>\n",
              "      <td>0.0</td>\n",
              "      <td>0.0</td>\n",
              "      <td>0.0</td>\n",
              "      <td>0.0</td>\n",
              "      <td>0.0</td>\n",
              "      <td>0.0</td>\n",
              "      <td>0.0</td>\n",
              "      <td>0.0</td>\n",
              "      <td>0.0</td>\n",
              "      <td>0.0</td>\n",
              "      <td>0.0</td>\n",
              "      <td>0.0</td>\n",
              "      <td>0.0</td>\n",
              "      <td>0.0</td>\n",
              "      <td>0.0</td>\n",
              "      <td>0.0</td>\n",
              "      <td>0.0</td>\n",
              "      <td>0.0</td>\n",
              "      <td>0.0</td>\n",
              "      <td>0.0</td>\n",
              "      <td>0.0</td>\n",
              "      <td>0.0</td>\n",
              "      <td>0.0</td>\n",
              "      <td>0.0</td>\n",
              "      <td>0.0</td>\n",
              "      <td>0.0</td>\n",
              "      <td>0.0</td>\n",
              "      <td>0.0</td>\n",
              "      <td>0.0</td>\n",
              "      <td>0.0</td>\n",
              "      <td>0.0</td>\n",
              "    </tr>\n",
              "    <tr>\n",
              "      <th>5</th>\n",
              "      <td>0.0</td>\n",
              "      <td>3.0</td>\n",
              "      <td>0.0</td>\n",
              "      <td>0.0</td>\n",
              "      <td>0.0</td>\n",
              "      <td>0.0</td>\n",
              "      <td>0.0</td>\n",
              "      <td>0.0</td>\n",
              "      <td>0.0</td>\n",
              "      <td>0.0</td>\n",
              "      <td>5.0</td>\n",
              "      <td>0.0</td>\n",
              "      <td>0.0</td>\n",
              "      <td>0.0</td>\n",
              "      <td>0.0</td>\n",
              "      <td>0.0</td>\n",
              "      <td>3.0</td>\n",
              "      <td>0.0</td>\n",
              "      <td>0.0</td>\n",
              "      <td>0.0</td>\n",
              "      <td>0.0</td>\n",
              "      <td>0.0</td>\n",
              "      <td>0.0</td>\n",
              "      <td>0.0</td>\n",
              "      <td>0.0</td>\n",
              "      <td>0.0</td>\n",
              "      <td>0.0</td>\n",
              "      <td>0.0</td>\n",
              "      <td>0.0</td>\n",
              "      <td>0.0</td>\n",
              "      <td>0.0</td>\n",
              "      <td>0.0</td>\n",
              "      <td>0.0</td>\n",
              "      <td>0.0</td>\n",
              "      <td>0.0</td>\n",
              "      <td>0.0</td>\n",
              "      <td>0.0</td>\n",
              "      <td>0.0</td>\n",
              "      <td>0.0</td>\n",
              "      <td>0.0</td>\n",
              "      <td>...</td>\n",
              "      <td>0.0</td>\n",
              "      <td>0.0</td>\n",
              "      <td>0.0</td>\n",
              "      <td>0.0</td>\n",
              "      <td>0.0</td>\n",
              "      <td>0.0</td>\n",
              "      <td>0.0</td>\n",
              "      <td>0.0</td>\n",
              "      <td>0.0</td>\n",
              "      <td>0.0</td>\n",
              "      <td>0.0</td>\n",
              "      <td>0.0</td>\n",
              "      <td>0.0</td>\n",
              "      <td>0.0</td>\n",
              "      <td>0.0</td>\n",
              "      <td>0.0</td>\n",
              "      <td>0.0</td>\n",
              "      <td>0.0</td>\n",
              "      <td>0.0</td>\n",
              "      <td>0.0</td>\n",
              "      <td>0.0</td>\n",
              "      <td>0.0</td>\n",
              "      <td>0.0</td>\n",
              "      <td>0.0</td>\n",
              "      <td>0.0</td>\n",
              "      <td>0.0</td>\n",
              "      <td>0.0</td>\n",
              "      <td>0.0</td>\n",
              "      <td>0.0</td>\n",
              "      <td>0.0</td>\n",
              "      <td>0.0</td>\n",
              "      <td>0.0</td>\n",
              "      <td>0.0</td>\n",
              "      <td>0.0</td>\n",
              "      <td>0.0</td>\n",
              "      <td>0.0</td>\n",
              "      <td>0.0</td>\n",
              "      <td>0.0</td>\n",
              "      <td>0.0</td>\n",
              "      <td>0.0</td>\n",
              "    </tr>\n",
              "  </tbody>\n",
              "</table>\n",
              "<p>5 rows × 5064 columns</p>\n",
              "</div>"
            ],
            "text/plain": [
              "movieId  1       2       3       4       ...  115617  116797  116823  118696\n",
              "userId                                   ...                                \n",
              "1           0.0     0.0     0.0     0.0  ...     0.0     0.0     0.0     0.0\n",
              "2           0.0     0.0     4.0     0.0  ...     0.0     0.0     0.0     0.0\n",
              "3           4.0     0.0     0.0     0.0  ...     0.0     0.0     0.0     0.0\n",
              "4           0.0     0.0     0.0     0.0  ...     0.0     0.0     0.0     0.0\n",
              "5           0.0     3.0     0.0     0.0  ...     0.0     0.0     0.0     0.0\n",
              "\n",
              "[5 rows x 5064 columns]"
            ]
          },
          "metadata": {
            "tags": []
          },
          "execution_count": 9
        }
      ]
    },
    {
      "cell_type": "code",
      "metadata": {
        "colab": {
          "base_uri": "https://localhost:8080/",
          "height": 282
        },
        "id": "uEUxfIi35QH4",
        "outputId": "b9ca5cf3-394d-404a-d0ca-feb9bd9d3065"
      },
      "source": [
        "# TESTING SET: Get the the user-item matrix (dense)\n",
        "df_movie_features_test = test.pivot(index='userId', columns='movieId', values='rating').fillna(0)\n",
        "df_movie_features_test.head()"
      ],
      "execution_count": 10,
      "outputs": [
        {
          "output_type": "execute_result",
          "data": {
            "text/html": [
              "<div>\n",
              "<style scoped>\n",
              "    .dataframe tbody tr th:only-of-type {\n",
              "        vertical-align: middle;\n",
              "    }\n",
              "\n",
              "    .dataframe tbody tr th {\n",
              "        vertical-align: top;\n",
              "    }\n",
              "\n",
              "    .dataframe thead th {\n",
              "        text-align: right;\n",
              "    }\n",
              "</style>\n",
              "<table border=\"1\" class=\"dataframe\">\n",
              "  <thead>\n",
              "    <tr style=\"text-align: right;\">\n",
              "      <th>movieId</th>\n",
              "      <th>1</th>\n",
              "      <th>2</th>\n",
              "      <th>3</th>\n",
              "      <th>4</th>\n",
              "      <th>5</th>\n",
              "      <th>6</th>\n",
              "      <th>7</th>\n",
              "      <th>8</th>\n",
              "      <th>9</th>\n",
              "      <th>10</th>\n",
              "      <th>11</th>\n",
              "      <th>12</th>\n",
              "      <th>13</th>\n",
              "      <th>14</th>\n",
              "      <th>15</th>\n",
              "      <th>16</th>\n",
              "      <th>17</th>\n",
              "      <th>18</th>\n",
              "      <th>19</th>\n",
              "      <th>20</th>\n",
              "      <th>21</th>\n",
              "      <th>22</th>\n",
              "      <th>23</th>\n",
              "      <th>24</th>\n",
              "      <th>25</th>\n",
              "      <th>26</th>\n",
              "      <th>27</th>\n",
              "      <th>28</th>\n",
              "      <th>29</th>\n",
              "      <th>30</th>\n",
              "      <th>31</th>\n",
              "      <th>32</th>\n",
              "      <th>34</th>\n",
              "      <th>35</th>\n",
              "      <th>36</th>\n",
              "      <th>38</th>\n",
              "      <th>39</th>\n",
              "      <th>40</th>\n",
              "      <th>41</th>\n",
              "      <th>42</th>\n",
              "      <th>...</th>\n",
              "      <th>106002</th>\n",
              "      <th>106072</th>\n",
              "      <th>106100</th>\n",
              "      <th>106487</th>\n",
              "      <th>106489</th>\n",
              "      <th>106642</th>\n",
              "      <th>106696</th>\n",
              "      <th>106766</th>\n",
              "      <th>106782</th>\n",
              "      <th>106916</th>\n",
              "      <th>106918</th>\n",
              "      <th>106920</th>\n",
              "      <th>107141</th>\n",
              "      <th>107406</th>\n",
              "      <th>108190</th>\n",
              "      <th>108932</th>\n",
              "      <th>109374</th>\n",
              "      <th>109487</th>\n",
              "      <th>110102</th>\n",
              "      <th>110553</th>\n",
              "      <th>110730</th>\n",
              "      <th>111360</th>\n",
              "      <th>111362</th>\n",
              "      <th>111364</th>\n",
              "      <th>111659</th>\n",
              "      <th>111759</th>\n",
              "      <th>112138</th>\n",
              "      <th>112175</th>\n",
              "      <th>112183</th>\n",
              "      <th>112290</th>\n",
              "      <th>112552</th>\n",
              "      <th>112556</th>\n",
              "      <th>112623</th>\n",
              "      <th>112852</th>\n",
              "      <th>114180</th>\n",
              "      <th>115569</th>\n",
              "      <th>115617</th>\n",
              "      <th>116797</th>\n",
              "      <th>116823</th>\n",
              "      <th>118696</th>\n",
              "    </tr>\n",
              "    <tr>\n",
              "      <th>userId</th>\n",
              "      <th></th>\n",
              "      <th></th>\n",
              "      <th></th>\n",
              "      <th></th>\n",
              "      <th></th>\n",
              "      <th></th>\n",
              "      <th></th>\n",
              "      <th></th>\n",
              "      <th></th>\n",
              "      <th></th>\n",
              "      <th></th>\n",
              "      <th></th>\n",
              "      <th></th>\n",
              "      <th></th>\n",
              "      <th></th>\n",
              "      <th></th>\n",
              "      <th></th>\n",
              "      <th></th>\n",
              "      <th></th>\n",
              "      <th></th>\n",
              "      <th></th>\n",
              "      <th></th>\n",
              "      <th></th>\n",
              "      <th></th>\n",
              "      <th></th>\n",
              "      <th></th>\n",
              "      <th></th>\n",
              "      <th></th>\n",
              "      <th></th>\n",
              "      <th></th>\n",
              "      <th></th>\n",
              "      <th></th>\n",
              "      <th></th>\n",
              "      <th></th>\n",
              "      <th></th>\n",
              "      <th></th>\n",
              "      <th></th>\n",
              "      <th></th>\n",
              "      <th></th>\n",
              "      <th></th>\n",
              "      <th></th>\n",
              "      <th></th>\n",
              "      <th></th>\n",
              "      <th></th>\n",
              "      <th></th>\n",
              "      <th></th>\n",
              "      <th></th>\n",
              "      <th></th>\n",
              "      <th></th>\n",
              "      <th></th>\n",
              "      <th></th>\n",
              "      <th></th>\n",
              "      <th></th>\n",
              "      <th></th>\n",
              "      <th></th>\n",
              "      <th></th>\n",
              "      <th></th>\n",
              "      <th></th>\n",
              "      <th></th>\n",
              "      <th></th>\n",
              "      <th></th>\n",
              "      <th></th>\n",
              "      <th></th>\n",
              "      <th></th>\n",
              "      <th></th>\n",
              "      <th></th>\n",
              "      <th></th>\n",
              "      <th></th>\n",
              "      <th></th>\n",
              "      <th></th>\n",
              "      <th></th>\n",
              "      <th></th>\n",
              "      <th></th>\n",
              "      <th></th>\n",
              "      <th></th>\n",
              "      <th></th>\n",
              "      <th></th>\n",
              "      <th></th>\n",
              "      <th></th>\n",
              "      <th></th>\n",
              "      <th></th>\n",
              "    </tr>\n",
              "  </thead>\n",
              "  <tbody>\n",
              "    <tr>\n",
              "      <th>1</th>\n",
              "      <td>0.0</td>\n",
              "      <td>3.5</td>\n",
              "      <td>0.0</td>\n",
              "      <td>0.0</td>\n",
              "      <td>0.0</td>\n",
              "      <td>0.0</td>\n",
              "      <td>0.0</td>\n",
              "      <td>0.0</td>\n",
              "      <td>0.0</td>\n",
              "      <td>0.0</td>\n",
              "      <td>0.0</td>\n",
              "      <td>0.0</td>\n",
              "      <td>0.0</td>\n",
              "      <td>0.0</td>\n",
              "      <td>0.0</td>\n",
              "      <td>0.0</td>\n",
              "      <td>0.0</td>\n",
              "      <td>0.0</td>\n",
              "      <td>0.0</td>\n",
              "      <td>0.0</td>\n",
              "      <td>0.0</td>\n",
              "      <td>0.0</td>\n",
              "      <td>0.0</td>\n",
              "      <td>0.0</td>\n",
              "      <td>0.0</td>\n",
              "      <td>0.0</td>\n",
              "      <td>0.0</td>\n",
              "      <td>0.0</td>\n",
              "      <td>3.5</td>\n",
              "      <td>0.0</td>\n",
              "      <td>0.0</td>\n",
              "      <td>0.0</td>\n",
              "      <td>0.0</td>\n",
              "      <td>0.0</td>\n",
              "      <td>0.0</td>\n",
              "      <td>0.0</td>\n",
              "      <td>0.0</td>\n",
              "      <td>0.0</td>\n",
              "      <td>0.0</td>\n",
              "      <td>0.0</td>\n",
              "      <td>...</td>\n",
              "      <td>0.0</td>\n",
              "      <td>0.0</td>\n",
              "      <td>0.0</td>\n",
              "      <td>0.0</td>\n",
              "      <td>0.0</td>\n",
              "      <td>0.0</td>\n",
              "      <td>0.0</td>\n",
              "      <td>0.0</td>\n",
              "      <td>0.0</td>\n",
              "      <td>0.0</td>\n",
              "      <td>0.0</td>\n",
              "      <td>0.0</td>\n",
              "      <td>0.0</td>\n",
              "      <td>0.0</td>\n",
              "      <td>0.0</td>\n",
              "      <td>0.0</td>\n",
              "      <td>0.0</td>\n",
              "      <td>0.0</td>\n",
              "      <td>0.0</td>\n",
              "      <td>0.0</td>\n",
              "      <td>0.0</td>\n",
              "      <td>0.0</td>\n",
              "      <td>0.0</td>\n",
              "      <td>0.0</td>\n",
              "      <td>0.0</td>\n",
              "      <td>0.0</td>\n",
              "      <td>0.0</td>\n",
              "      <td>0.0</td>\n",
              "      <td>0.0</td>\n",
              "      <td>0.0</td>\n",
              "      <td>0.0</td>\n",
              "      <td>0.0</td>\n",
              "      <td>0.0</td>\n",
              "      <td>0.0</td>\n",
              "      <td>0.0</td>\n",
              "      <td>0.0</td>\n",
              "      <td>0.0</td>\n",
              "      <td>0.0</td>\n",
              "      <td>0.0</td>\n",
              "      <td>0.0</td>\n",
              "    </tr>\n",
              "    <tr>\n",
              "      <th>2</th>\n",
              "      <td>0.0</td>\n",
              "      <td>0.0</td>\n",
              "      <td>0.0</td>\n",
              "      <td>0.0</td>\n",
              "      <td>0.0</td>\n",
              "      <td>0.0</td>\n",
              "      <td>0.0</td>\n",
              "      <td>0.0</td>\n",
              "      <td>0.0</td>\n",
              "      <td>0.0</td>\n",
              "      <td>0.0</td>\n",
              "      <td>0.0</td>\n",
              "      <td>0.0</td>\n",
              "      <td>0.0</td>\n",
              "      <td>0.0</td>\n",
              "      <td>0.0</td>\n",
              "      <td>0.0</td>\n",
              "      <td>0.0</td>\n",
              "      <td>0.0</td>\n",
              "      <td>0.0</td>\n",
              "      <td>0.0</td>\n",
              "      <td>0.0</td>\n",
              "      <td>0.0</td>\n",
              "      <td>0.0</td>\n",
              "      <td>0.0</td>\n",
              "      <td>0.0</td>\n",
              "      <td>0.0</td>\n",
              "      <td>0.0</td>\n",
              "      <td>0.0</td>\n",
              "      <td>0.0</td>\n",
              "      <td>0.0</td>\n",
              "      <td>0.0</td>\n",
              "      <td>0.0</td>\n",
              "      <td>0.0</td>\n",
              "      <td>0.0</td>\n",
              "      <td>0.0</td>\n",
              "      <td>0.0</td>\n",
              "      <td>0.0</td>\n",
              "      <td>0.0</td>\n",
              "      <td>0.0</td>\n",
              "      <td>...</td>\n",
              "      <td>0.0</td>\n",
              "      <td>0.0</td>\n",
              "      <td>0.0</td>\n",
              "      <td>0.0</td>\n",
              "      <td>0.0</td>\n",
              "      <td>0.0</td>\n",
              "      <td>0.0</td>\n",
              "      <td>0.0</td>\n",
              "      <td>0.0</td>\n",
              "      <td>0.0</td>\n",
              "      <td>0.0</td>\n",
              "      <td>0.0</td>\n",
              "      <td>0.0</td>\n",
              "      <td>0.0</td>\n",
              "      <td>0.0</td>\n",
              "      <td>0.0</td>\n",
              "      <td>0.0</td>\n",
              "      <td>0.0</td>\n",
              "      <td>0.0</td>\n",
              "      <td>0.0</td>\n",
              "      <td>0.0</td>\n",
              "      <td>0.0</td>\n",
              "      <td>0.0</td>\n",
              "      <td>0.0</td>\n",
              "      <td>0.0</td>\n",
              "      <td>0.0</td>\n",
              "      <td>0.0</td>\n",
              "      <td>0.0</td>\n",
              "      <td>0.0</td>\n",
              "      <td>0.0</td>\n",
              "      <td>0.0</td>\n",
              "      <td>0.0</td>\n",
              "      <td>0.0</td>\n",
              "      <td>0.0</td>\n",
              "      <td>0.0</td>\n",
              "      <td>0.0</td>\n",
              "      <td>0.0</td>\n",
              "      <td>0.0</td>\n",
              "      <td>0.0</td>\n",
              "      <td>0.0</td>\n",
              "    </tr>\n",
              "    <tr>\n",
              "      <th>3</th>\n",
              "      <td>0.0</td>\n",
              "      <td>0.0</td>\n",
              "      <td>0.0</td>\n",
              "      <td>0.0</td>\n",
              "      <td>0.0</td>\n",
              "      <td>0.0</td>\n",
              "      <td>0.0</td>\n",
              "      <td>0.0</td>\n",
              "      <td>0.0</td>\n",
              "      <td>0.0</td>\n",
              "      <td>0.0</td>\n",
              "      <td>0.0</td>\n",
              "      <td>0.0</td>\n",
              "      <td>0.0</td>\n",
              "      <td>0.0</td>\n",
              "      <td>0.0</td>\n",
              "      <td>0.0</td>\n",
              "      <td>0.0</td>\n",
              "      <td>0.0</td>\n",
              "      <td>0.0</td>\n",
              "      <td>0.0</td>\n",
              "      <td>0.0</td>\n",
              "      <td>0.0</td>\n",
              "      <td>3.0</td>\n",
              "      <td>0.0</td>\n",
              "      <td>0.0</td>\n",
              "      <td>0.0</td>\n",
              "      <td>0.0</td>\n",
              "      <td>0.0</td>\n",
              "      <td>0.0</td>\n",
              "      <td>0.0</td>\n",
              "      <td>4.0</td>\n",
              "      <td>0.0</td>\n",
              "      <td>0.0</td>\n",
              "      <td>0.0</td>\n",
              "      <td>0.0</td>\n",
              "      <td>0.0</td>\n",
              "      <td>0.0</td>\n",
              "      <td>0.0</td>\n",
              "      <td>0.0</td>\n",
              "      <td>...</td>\n",
              "      <td>0.0</td>\n",
              "      <td>0.0</td>\n",
              "      <td>0.0</td>\n",
              "      <td>0.0</td>\n",
              "      <td>0.0</td>\n",
              "      <td>0.0</td>\n",
              "      <td>0.0</td>\n",
              "      <td>0.0</td>\n",
              "      <td>0.0</td>\n",
              "      <td>0.0</td>\n",
              "      <td>0.0</td>\n",
              "      <td>0.0</td>\n",
              "      <td>0.0</td>\n",
              "      <td>0.0</td>\n",
              "      <td>0.0</td>\n",
              "      <td>0.0</td>\n",
              "      <td>0.0</td>\n",
              "      <td>0.0</td>\n",
              "      <td>0.0</td>\n",
              "      <td>0.0</td>\n",
              "      <td>0.0</td>\n",
              "      <td>0.0</td>\n",
              "      <td>0.0</td>\n",
              "      <td>0.0</td>\n",
              "      <td>0.0</td>\n",
              "      <td>0.0</td>\n",
              "      <td>0.0</td>\n",
              "      <td>0.0</td>\n",
              "      <td>0.0</td>\n",
              "      <td>0.0</td>\n",
              "      <td>0.0</td>\n",
              "      <td>0.0</td>\n",
              "      <td>0.0</td>\n",
              "      <td>0.0</td>\n",
              "      <td>0.0</td>\n",
              "      <td>0.0</td>\n",
              "      <td>0.0</td>\n",
              "      <td>0.0</td>\n",
              "      <td>0.0</td>\n",
              "      <td>0.0</td>\n",
              "    </tr>\n",
              "    <tr>\n",
              "      <th>4</th>\n",
              "      <td>0.0</td>\n",
              "      <td>0.0</td>\n",
              "      <td>0.0</td>\n",
              "      <td>0.0</td>\n",
              "      <td>0.0</td>\n",
              "      <td>0.0</td>\n",
              "      <td>0.0</td>\n",
              "      <td>0.0</td>\n",
              "      <td>0.0</td>\n",
              "      <td>0.0</td>\n",
              "      <td>0.0</td>\n",
              "      <td>0.0</td>\n",
              "      <td>0.0</td>\n",
              "      <td>0.0</td>\n",
              "      <td>0.0</td>\n",
              "      <td>0.0</td>\n",
              "      <td>0.0</td>\n",
              "      <td>0.0</td>\n",
              "      <td>0.0</td>\n",
              "      <td>0.0</td>\n",
              "      <td>0.0</td>\n",
              "      <td>0.0</td>\n",
              "      <td>0.0</td>\n",
              "      <td>0.0</td>\n",
              "      <td>0.0</td>\n",
              "      <td>0.0</td>\n",
              "      <td>0.0</td>\n",
              "      <td>0.0</td>\n",
              "      <td>0.0</td>\n",
              "      <td>0.0</td>\n",
              "      <td>0.0</td>\n",
              "      <td>1.0</td>\n",
              "      <td>0.0</td>\n",
              "      <td>0.0</td>\n",
              "      <td>0.0</td>\n",
              "      <td>0.0</td>\n",
              "      <td>0.0</td>\n",
              "      <td>0.0</td>\n",
              "      <td>0.0</td>\n",
              "      <td>0.0</td>\n",
              "      <td>...</td>\n",
              "      <td>0.0</td>\n",
              "      <td>0.0</td>\n",
              "      <td>0.0</td>\n",
              "      <td>0.0</td>\n",
              "      <td>0.0</td>\n",
              "      <td>0.0</td>\n",
              "      <td>0.0</td>\n",
              "      <td>0.0</td>\n",
              "      <td>0.0</td>\n",
              "      <td>0.0</td>\n",
              "      <td>0.0</td>\n",
              "      <td>0.0</td>\n",
              "      <td>0.0</td>\n",
              "      <td>0.0</td>\n",
              "      <td>0.0</td>\n",
              "      <td>0.0</td>\n",
              "      <td>0.0</td>\n",
              "      <td>0.0</td>\n",
              "      <td>0.0</td>\n",
              "      <td>0.0</td>\n",
              "      <td>0.0</td>\n",
              "      <td>0.0</td>\n",
              "      <td>0.0</td>\n",
              "      <td>0.0</td>\n",
              "      <td>0.0</td>\n",
              "      <td>0.0</td>\n",
              "      <td>0.0</td>\n",
              "      <td>0.0</td>\n",
              "      <td>0.0</td>\n",
              "      <td>0.0</td>\n",
              "      <td>0.0</td>\n",
              "      <td>0.0</td>\n",
              "      <td>0.0</td>\n",
              "      <td>0.0</td>\n",
              "      <td>0.0</td>\n",
              "      <td>0.0</td>\n",
              "      <td>0.0</td>\n",
              "      <td>0.0</td>\n",
              "      <td>0.0</td>\n",
              "      <td>0.0</td>\n",
              "    </tr>\n",
              "    <tr>\n",
              "      <th>5</th>\n",
              "      <td>0.0</td>\n",
              "      <td>0.0</td>\n",
              "      <td>0.0</td>\n",
              "      <td>0.0</td>\n",
              "      <td>0.0</td>\n",
              "      <td>0.0</td>\n",
              "      <td>0.0</td>\n",
              "      <td>0.0</td>\n",
              "      <td>0.0</td>\n",
              "      <td>0.0</td>\n",
              "      <td>0.0</td>\n",
              "      <td>0.0</td>\n",
              "      <td>0.0</td>\n",
              "      <td>0.0</td>\n",
              "      <td>0.0</td>\n",
              "      <td>0.0</td>\n",
              "      <td>0.0</td>\n",
              "      <td>0.0</td>\n",
              "      <td>0.0</td>\n",
              "      <td>0.0</td>\n",
              "      <td>0.0</td>\n",
              "      <td>0.0</td>\n",
              "      <td>0.0</td>\n",
              "      <td>0.0</td>\n",
              "      <td>0.0</td>\n",
              "      <td>0.0</td>\n",
              "      <td>0.0</td>\n",
              "      <td>0.0</td>\n",
              "      <td>0.0</td>\n",
              "      <td>0.0</td>\n",
              "      <td>0.0</td>\n",
              "      <td>0.0</td>\n",
              "      <td>0.0</td>\n",
              "      <td>0.0</td>\n",
              "      <td>0.0</td>\n",
              "      <td>0.0</td>\n",
              "      <td>0.0</td>\n",
              "      <td>0.0</td>\n",
              "      <td>0.0</td>\n",
              "      <td>0.0</td>\n",
              "      <td>...</td>\n",
              "      <td>0.0</td>\n",
              "      <td>0.0</td>\n",
              "      <td>0.0</td>\n",
              "      <td>0.0</td>\n",
              "      <td>0.0</td>\n",
              "      <td>0.0</td>\n",
              "      <td>0.0</td>\n",
              "      <td>0.0</td>\n",
              "      <td>0.0</td>\n",
              "      <td>0.0</td>\n",
              "      <td>0.0</td>\n",
              "      <td>0.0</td>\n",
              "      <td>0.0</td>\n",
              "      <td>0.0</td>\n",
              "      <td>0.0</td>\n",
              "      <td>0.0</td>\n",
              "      <td>0.0</td>\n",
              "      <td>0.0</td>\n",
              "      <td>0.0</td>\n",
              "      <td>0.0</td>\n",
              "      <td>0.0</td>\n",
              "      <td>0.0</td>\n",
              "      <td>0.0</td>\n",
              "      <td>0.0</td>\n",
              "      <td>0.0</td>\n",
              "      <td>0.0</td>\n",
              "      <td>0.0</td>\n",
              "      <td>0.0</td>\n",
              "      <td>0.0</td>\n",
              "      <td>0.0</td>\n",
              "      <td>0.0</td>\n",
              "      <td>0.0</td>\n",
              "      <td>0.0</td>\n",
              "      <td>0.0</td>\n",
              "      <td>0.0</td>\n",
              "      <td>0.0</td>\n",
              "      <td>0.0</td>\n",
              "      <td>0.0</td>\n",
              "      <td>0.0</td>\n",
              "      <td>0.0</td>\n",
              "    </tr>\n",
              "  </tbody>\n",
              "</table>\n",
              "<p>5 rows × 5059 columns</p>\n",
              "</div>"
            ],
            "text/plain": [
              "movieId  1       2       3       4       ...  115617  116797  116823  118696\n",
              "userId                                   ...                                \n",
              "1           0.0     3.5     0.0     0.0  ...     0.0     0.0     0.0     0.0\n",
              "2           0.0     0.0     0.0     0.0  ...     0.0     0.0     0.0     0.0\n",
              "3           0.0     0.0     0.0     0.0  ...     0.0     0.0     0.0     0.0\n",
              "4           0.0     0.0     0.0     0.0  ...     0.0     0.0     0.0     0.0\n",
              "5           0.0     0.0     0.0     0.0  ...     0.0     0.0     0.0     0.0\n",
              "\n",
              "[5 rows x 5059 columns]"
            ]
          },
          "metadata": {
            "tags": []
          },
          "execution_count": 10
        }
      ]
    },
    {
      "cell_type": "code",
      "metadata": {
        "colab": {
          "base_uri": "https://localhost:8080/"
        },
        "id": "SZWACze95-O3",
        "outputId": "0afbf1bb-6a9b-4b36-e98d-9090762282d2"
      },
      "source": [
        "df_movie_features_test.shape, df_movie_features.shape\n",
        "# The sahpes are not equal. There are missing userId's and movieId's"
      ],
      "execution_count": 11,
      "outputs": [
        {
          "output_type": "execute_result",
          "data": {
            "text/plain": [
              "((6674, 5059), (6687, 5064))"
            ]
          },
          "metadata": {
            "tags": []
          },
          "execution_count": 11
        }
      ]
    },
    {
      "cell_type": "code",
      "metadata": {
        "id": "9uemFwWw9TSj"
      },
      "source": [
        "# 1. Add missing userId's and movieId's to the test set\n",
        "df_movie_features_test = df_movie_features_test.reindex(columns=df_movie_features_test.columns | df_movie_features.columns, index=df_movie_features_test.index | df_movie_features.index)\n",
        "\n",
        "# Fill the NaN values with 0's\n",
        "df_movie_features_test = df_movie_features_test.fillna(0)\n",
        "\n",
        "# 2. Assert that the training set and the test set are disjoint\n",
        "assert np.all(df_movie_features_test.values * df_movie_features.values == 0)"
      ],
      "execution_count": 12,
      "outputs": []
    },
    {
      "cell_type": "code",
      "metadata": {
        "id": "nYOZjISjOUKi"
      },
      "source": [
        "#ratings dense matrix\n",
        "Y = df_movie_features.values\n",
        "Y_test = df_movie_features_test.values\n",
        "\n",
        "unique_users = train['userId'].unique() #6687 \n",
        "unique_movies = train['movieId'].unique() #5064\n",
        "\n",
        "U = len(unique_users)\n",
        "I = len(unique_movies)\n",
        "\n",
        "C = 0.02 #Regularization parameter.\n",
        "k = 50"
      ],
      "execution_count": 13,
      "outputs": []
    },
    {
      "cell_type": "markdown",
      "metadata": {
        "id": "pPUAC7UE1z9f"
      },
      "source": [
        "###**1.1 ALS OPTIMIZATION METHOD**"
      ]
    },
    {
      "cell_type": "markdown",
      "metadata": {
        "id": "bH8qo3GRJLor"
      },
      "source": [
        "*Note*: The algorithm for ALS is slightly modified in this image to show the closed form equations using matrices.\n",
        "\n",
        "![image.png](data:image/png;base64,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)"
      ]
    },
    {
      "cell_type": "code",
      "metadata": {
        "id": "5WzddyydNRFV"
      },
      "source": [
        "def ALS(movie_features, fixed_matrix, k, C):\n",
        "  \"\"\"\n",
        "  args:\n",
        "    movie_features: the User-Item matrix (R)\n",
        "    fixed_matrix: the fixed latent matrix (use P if updating Q and vice versa)\n",
        "    k: number of factors in latent vectors\n",
        "    C: Regularization parameter\n",
        "\n",
        "  return:\n",
        "    updated matrix after ALS\n",
        "  \n",
        "  e.g.: P = R*Q*(Q.T*Q + λ*I)^{-1}\n",
        "  \"\"\"  \n",
        "  updated_matrix = movie_features @ fixed_matrix @ np.linalg.inv(fixed_matrix.T @ fixed_matrix + C * np.eye(k))\n",
        "  return updated_matrix"
      ],
      "execution_count": 225,
      "outputs": []
    },
    {
      "cell_type": "markdown",
      "metadata": {
        "id": "PqQNk_c22Zh1"
      },
      "source": [
        "**Loss Function with L2 Regularization** \n",
        "\n",
        "![image.png](data:image/png;base64,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)"
      ]
    },
    {
      "cell_type": "code",
      "metadata": {
        "id": "mIFsodabpCv3"
      },
      "source": [
        "def RMSE(error, A, B, C=0): \n",
        "        \n",
        "  squared_magnitude_P = (A @ A.T).sum()\n",
        "  squared_magnitude_Q = (B @ B.T).sum()\n",
        "\n",
        "  regularization = C*(squared_magnitude_P + squared_magnitude_Q)\n",
        "  loss = ((error**2).sum() + regularization)/(total_ratings) #total_ratings |u,i| is the total number of ratings in the dataset.\n",
        "  loss = np.sqrt(loss)                                                                   \n",
        "\n",
        "  return loss"
      ],
      "execution_count": 224,
      "outputs": []
    },
    {
      "cell_type": "code",
      "metadata": {
        "id": "cLPpygokku35"
      },
      "source": [
        "train_mask = np.nonzero(Y)\n",
        "test_mask = np.nonzero(Y_test)\n",
        "\n",
        "def error_with_mask(Y, Y_pred, dataset):\n",
        "  \"\"\"returns the difference between Y and Y_pred, i.e. error or deviance\"\"\"\n",
        "  if dataset == 'train':\n",
        "    mask = train_mask\n",
        "  elif dataset == 'test':\n",
        "    mask = test_mask\n",
        "  else:\n",
        "    return\n",
        "  error = Y[mask] - Y_pred[mask]\n",
        "  return error"
      ],
      "execution_count": 223,
      "outputs": []
    },
    {
      "cell_type": "code",
      "metadata": {
        "colab": {
          "base_uri": "https://localhost:8080/"
        },
        "id": "Q2SuPmpyrzWp",
        "outputId": "daf84323-e8f0-4f9f-c713-0ef1a19f3e03"
      },
      "source": [
        "n_epochs = 100\n",
        "\n",
        "#user latent matrix\n",
        "P = np.random.uniform(0, 1/np.sqrt(k), (U,k))\n",
        "\n",
        "#item latent matrix\n",
        "Q = np.random.uniform(0, 1/np.sqrt(k), size=(I,k))\n",
        "\n",
        "train_losses = []\n",
        "test_losses = []\n",
        "\n",
        "for epoch in range(n_epochs):\n",
        "\n",
        "      P = ALS(Y, Q, k, C)\n",
        "      Q = ALS(Y.T, P, k, C)\n",
        "\n",
        "      Y_pred = (P @ Q.T)\n",
        "      \n",
        "      train_error = error_with_mask(Y, Y_pred, dataset='train')\n",
        "      test_error = error_with_mask(Y_test, Y_pred, dataset='test')\n",
        "\n",
        "      train_LOSS = RMSE(train_error, P, Q, C)\n",
        "      test_LOSS = RMSE(test_error, P, Q)\n",
        "\n",
        "      train_losses.append(train_LOSS)\n",
        "      test_losses.append(test_LOSS)\n",
        "\n",
        "      if (epoch==0 or (epoch+1)%10 == 0):\n",
        "        print(f\"\\nEpoch: {epoch+1}/{n_epochs}\")\n",
        "        print(f\"Train LOSS (λ={C}) = {train_LOSS}, (λ=0) = {mean_squared_error(Y[Mask],Y_pred[Mask], squared=False)}\") # mean_squared_error for DEBUGGING\n",
        "        print(f\"Test  LOSS    (λ=0) = {test_LOSS}\")"
      ],
      "execution_count": 226,
      "outputs": [
        {
          "output_type": "stream",
          "text": [
            "\n",
            "Epoch: 1/100\n",
            "Train LOSS (λ=0.02) = 2.909666659327918, (λ=0) = 2.8498758519173695\n",
            "Test  LOSS    (λ=0) = 1.515410236150164\n",
            "\n",
            "Epoch: 10/100\n",
            "Train LOSS (λ=0.02) = 2.5850817746487493, (λ=0) = 2.5106132469331373\n",
            "Test  LOSS    (λ=0) = 1.3982769543628584\n",
            "\n",
            "Epoch: 20/100\n",
            "Train LOSS (λ=0.02) = 2.5833251486962623, (λ=0) = 2.5091693722305104\n",
            "Test  LOSS    (λ=0) = 1.3979024380068057\n",
            "\n",
            "Epoch: 30/100\n",
            "Train LOSS (λ=0.02) = 2.5828938427878083, (λ=0) = 2.5088969056587844\n",
            "Test  LOSS    (λ=0) = 1.3977037438877267\n",
            "\n",
            "Epoch: 40/100\n",
            "Train LOSS (λ=0.02) = 2.5827021114853825, (λ=0) = 2.5088375680988424\n",
            "Test  LOSS    (λ=0) = 1.397745206286871\n",
            "\n",
            "Epoch: 50/100\n",
            "Train LOSS (λ=0.02) = 2.5825632834152317, (λ=0) = 2.5088306710516344\n",
            "Test  LOSS    (λ=0) = 1.3978447793857949\n",
            "\n",
            "Epoch: 60/100\n",
            "Train LOSS (λ=0.02) = 2.582422532143987, (λ=0) = 2.5088231788710362\n",
            "Test  LOSS    (λ=0) = 1.3978899258497262\n",
            "\n",
            "Epoch: 70/100\n",
            "Train LOSS (λ=0.02) = 2.5822751233996017, (λ=0) = 2.508808414181609\n",
            "Test  LOSS    (λ=0) = 1.3978881426411174\n",
            "\n",
            "Epoch: 80/100\n",
            "Train LOSS (λ=0.02) = 2.582127027414402, (λ=0) = 2.5087915338936377\n",
            "Test  LOSS    (λ=0) = 1.397867233992589\n",
            "\n",
            "Epoch: 90/100\n",
            "Train LOSS (λ=0.02) = 2.5819818841901787, (λ=0) = 2.5087760784806363\n",
            "Test  LOSS    (λ=0) = 1.3978425690694232\n",
            "\n",
            "Epoch: 100/100\n",
            "Train LOSS (λ=0.02) = 2.581840816679502, (λ=0) = 2.5087632817902903\n",
            "Test  LOSS    (λ=0) = 1.3978201804706851\n"
          ],
          "name": "stdout"
        }
      ]
    },
    {
      "cell_type": "code",
      "metadata": {
        "colab": {
          "base_uri": "https://localhost:8080/"
        },
        "id": "h7E0CamHdELy",
        "outputId": "2f8d1f74-a320-464d-e7b5-51c4bb4900fa"
      },
      "source": [
        "als_matrix = P @ Q.T\n",
        "np.min(als_matrix), np.max(als_matrix) # ????? LAB8 has also weird min and max"
      ],
      "execution_count": 234,
      "outputs": [
        {
          "output_type": "execute_result",
          "data": {
            "text/plain": [
              "(-11.394401547409695, 11.261478699885803)"
            ]
          },
          "metadata": {
            "tags": []
          },
          "execution_count": 234
        }
      ]
    },
    {
      "cell_type": "markdown",
      "metadata": {
        "id": "7gU4rwYG2Afz"
      },
      "source": [
        "###**1.2 GRADIENT DESCENT OPTIMIZATION METHOD**"
      ]
    },
    {
      "cell_type": "code",
      "metadata": {
        "id": "XZAroOPPLu0h"
      },
      "source": [
        "def RMSE(error, A, B, C=0, bu=None, bi=None): \n",
        "        \n",
        "  squared_magnitude_P = (A @ A.T).sum()\n",
        "  squared_magnitude_Q = (B @ B.T).sum()\n",
        "\n",
        "  squared_magnitude_bu = 0\n",
        "  squared_magnitude_bi = 0\n",
        "\n",
        "  if (bu is not None and bi is not None):\n",
        "    squared_magnitude_bu = (bu @ bu.T).sum()\n",
        "    squared_magnitude_bi = (bi @ bi.T).sum()\n",
        "\n",
        "  regularization = C*(squared_magnitude_P + squared_magnitude_Q + squared_magnitude_bu + squared_magnitude_bi)\n",
        "  loss = ((error**2).sum() + regularization)/(total_ratings)\n",
        "  loss = np.sqrt(loss)                                                                   \n",
        "\n",
        "  return loss"
      ],
      "execution_count": 228,
      "outputs": []
    },
    {
      "cell_type": "code",
      "metadata": {
        "colab": {
          "base_uri": "https://localhost:8080/"
        },
        "id": "FT9R88GsMGtK",
        "outputId": "c78b4543-d705-4f70-b4e6-e8a2d6287184"
      },
      "source": [
        "# M: is the indicator mask\n",
        "# m_{ui} = 1 if user u has rated the item i , 0 otherwise\n",
        "M_train = df_movie_features.values.copy()\n",
        "M_train[M_train>0] = 1\n",
        "\n",
        "M_test = df_movie_features_test.values.copy()\n",
        "M_test[M_test>0] = 1\n",
        "\n",
        "n_epochs = 50\n",
        "lr = 0.02\n",
        "\n",
        "#user latent matrix\n",
        "P2 = (6/k) * np.random.random(size=(U,k))\n",
        "\n",
        "#item latent matrix\n",
        "Q2 = (6/k) * np.random.random(size=(I,k))\n",
        "\n",
        "#mu: overall average rating\n",
        "mu = np.mean(ratings) #overallAverageRating\n",
        "\n",
        "#bi: item (movie) average offset\n",
        "#bi = mu - Y.T[:] #movieAverageOffset (?)\n",
        "\n",
        "#bu: user average offset\n",
        "#bu = mu - Y[:] #userAverageOffset    (?)\n",
        "\n",
        "train_losses_gd = []\n",
        "test_losses_gd = []\n",
        "\n",
        "#momentum\n",
        "beta = 0.9\n",
        "\n",
        "Y_pred = P2 @ Q2.T\n",
        "train_error = (Y - Y_pred) * M_train\n",
        "\n",
        "P_change = (C*P2 - (train_error)   @ Q2) /(total_ratings)\n",
        "Q_change = (C*Q2 - (train_error).T @ P2) /(total_ratings)\n",
        "\n",
        "for epoch in range(n_epochs):\n",
        "\n",
        "      P_grad = (C*P2 - (train_error)   @ Q2) /(total_ratings)\n",
        "      Q_grad = (C*Q2 - (train_error).T @ P2) /(total_ratings)\n",
        "\n",
        "      P_change = (beta*P_change + (1-beta)*P_grad)\n",
        "      Q_change = (beta*Q_change + (1-beta)*Q_grad)\n",
        "\n",
        "      P2 -= (lr*P_grad)\n",
        "      Q2 -= (lr*Q_grad)\n",
        "\n",
        "      Y_pred = (P2 @ Q2.T)\n",
        "      \n",
        "      train_error = (Y - Y_pred) * M_train\n",
        "      test_error = (Y_test - Y_pred) * M_test\n",
        "\n",
        "      train_LOSS = RMSE(train_error, P2, Q2, C)\n",
        "      test_LOSS = RMSE(test_error, P2, Q2)\n",
        "\n",
        "      train_losses_gd.append(train_LOSS)\n",
        "      test_losses_gd.append(test_LOSS)\n",
        "\n",
        "      if (epoch==0 or (epoch+1)%10 == 0):\n",
        "        print(f\"\\nEpoch: {epoch+1}/{n_epochs}\")\n",
        "        print(f\"Train LOSS (λ={C}) = {train_LOSS}, (λ=0) = {mean_squared_error(Y[Mask],Y_pred[Mask], squared=False)}\") # mean_squared_error for DEBUGGING\n",
        "        print(f\"Test  LOSS    (λ=0) = {test_LOSS}\")"
      ],
      "execution_count": 240,
      "outputs": [
        {
          "output_type": "stream",
          "text": [
            "\n",
            "Epoch: 1/50\n",
            "Train LOSS (λ=0.02) = 3.5698798843855446, (λ=0) = 3.523106582411328\n",
            "Test  LOSS    (λ=0) = 1.7624757233488488\n",
            "\n",
            "Epoch: 10/50\n",
            "Train LOSS (λ=0.02) = 3.5697601140561552, (λ=0) = 3.522975712009206\n",
            "Test  LOSS    (λ=0) = 1.7624105926482927\n",
            "\n",
            "Epoch: 20/50\n",
            "Train LOSS (λ=0.02) = 3.5696269736443837, (λ=0) = 3.522830231264878\n",
            "Test  LOSS    (λ=0) = 1.7623381908746714\n",
            "\n",
            "Epoch: 30/50\n",
            "Train LOSS (λ=0.02) = 3.5694937676556635, (λ=0) = 3.522684677657616\n",
            "Test  LOSS    (λ=0) = 1.7622657529484367\n",
            "\n",
            "Epoch: 40/50\n",
            "Train LOSS (λ=0.02) = 3.5693604960572736, (λ=0) = 3.522539051151092\n",
            "Test  LOSS    (λ=0) = 1.7621932788516887\n",
            "\n",
            "Epoch: 50/50\n",
            "Train LOSS (λ=0.02) = 3.5692271588164726, (λ=0) = 3.5223933517089856\n",
            "Test  LOSS    (λ=0) = 1.7621207685665479\n"
          ],
          "name": "stdout"
        }
      ]
    },
    {
      "cell_type": "code",
      "metadata": {
        "colab": {
          "base_uri": "https://localhost:8080/"
        },
        "id": "ry8wby5hQrUO",
        "outputId": "978c5452-e6ee-452e-e7a4-84ae1d0ac587"
      },
      "source": [
        "GD_matrix = P2 @ Q2.T\n",
        "np.min(GD_matrix), np.max(GD_matrix) # ????? LAB8 has also weird min and max"
      ],
      "execution_count": 241,
      "outputs": [
        {
          "output_type": "execute_result",
          "data": {
            "text/plain": [
              "(0.07957723959508091, 0.31767113379792644)"
            ]
          },
          "metadata": {
            "tags": []
          },
          "execution_count": 241
        }
      ]
    },
    {
      "cell_type": "markdown",
      "metadata": {
        "id": "9RLDd0-zKUbN"
      },
      "source": [
        "\n",
        "\n",
        "---\n",
        "\n",
        "\n",
        "#2. Collaborative Filtering model: **Deep Learning**\n",
        "\n",
        "1. Input: integer values (ohe values cane also be used)\n",
        "2. 2 embedding layers: User emb + Item emb\n",
        "3. Concatenate embedding layers\n",
        "4. FC hidden layers (regularization: dropout)\n",
        "5. Output layer: range [1,5]"
      ]
    },
    {
      "cell_type": "code",
      "metadata": {
        "id": "upG7WRLibu7D"
      },
      "source": [
        "class DeepLearningRecommender(nn.Module):\n",
        "  def __init__(self, n_users, n_movies, k=50):\n",
        "    super().__init__()\n",
        "    \n",
        "    self.emb1 = nn.Embedding(n_users,  k)\n",
        "    self.emb2 = nn.Embedding(n_movies, k)\n",
        "    \n",
        "    self.hidden = nn.Sequential(\n",
        "        nn.Dropout(0.2),\n",
        "        nn.Flatten(),\n",
        "        nn.Linear(k*2 , 512),\n",
        "        nn.Dropout(0.2),\n",
        "        nn.ReLU(),\n",
        "        nn.Linear(512, 256),\n",
        "        nn.Dropout(0.2),\n",
        "        nn.ReLU(),\n",
        "        nn.Linear(256, 128),\n",
        "        nn.Dropout(0.2),\n",
        "        nn.ReLU(),\n",
        "        nn.Linear(128, 1)\n",
        "        )\n",
        "    \n",
        "    self.sigmoid = nn.Sigmoid()\n",
        "    self._init()\n",
        "  \n",
        "  def forward(self, users, movies, range=(1,5)):\n",
        "    x = torch.cat([self.emb1(users), self.emb2(movies)], dim=1)\n",
        "    x = self.hidden(x)\n",
        "    x = self.sigmoid(x)\n",
        "\n",
        "    min, max = range\n",
        "    \n",
        "    return x*(max - min + 1) + min - 0.5 #scale output to [1,5]\n",
        "\n",
        "  # Copied: from Lab 8\n",
        "  def _init(self):\n",
        "      \"\"\"\n",
        "      Initialize embeddings and hidden layers weights with xavier.\n",
        "      \"\"\"\n",
        "      def init(m):\n",
        "          if type(m) == nn.Linear:\n",
        "              torch.nn.init.xavier_uniform_(m.weight)\n",
        "              m.bias.data.fill_(0.01)\n",
        "\n",
        "      self.emb1.weight.data.uniform_(-0.05, 0.05)\n",
        "      self.emb2.weight.data.uniform_(-0.05, 0.05)\n",
        "      self.hidden.apply(init)\n",
        "\n",
        "model = DeepLearningRecommender(n_users=max(unique_users)+1, n_movies=max(unique_movies)+1).to(device)"
      ],
      "execution_count": 14,
      "outputs": []
    },
    {
      "cell_type": "code",
      "metadata": {
        "id": "z8Wy0gOdfp4-"
      },
      "source": [
        "# Creating Batches of size batch_sizee each\n",
        "batch_size = 128\n",
        "batches = []\n",
        "\n",
        "#>>>>temp data\n",
        "users = train['userId'].values\n",
        "movies = train['movieId'].values\n",
        "ratings = train['rating'].values\n",
        "\n",
        "R = len(ratings)\n",
        "\n",
        "#Create bathces of data\n",
        "for i in range(0, R, batch_size):\n",
        "  limit = min(i+batch_size, R)\n",
        "\n",
        "  users_batch = torch.tensor(users[i:limit], dtype=torch.long)\n",
        "  movies_batch = torch.tensor(movies[i:limit], dtype=torch.long)\n",
        "  ratings_batch = torch.tensor(ratings[i:limit], dtype=torch.float64)\n",
        "\n",
        "  batches.append((users_batch, movies_batch, ratings_batch))\n",
        "\n",
        "#<<<<delete temp data\n",
        "del users\n",
        "del movies\n",
        "del ratings"
      ],
      "execution_count": 15,
      "outputs": []
    },
    {
      "cell_type": "code",
      "metadata": {
        "id": "sokrYDG8aqRC"
      },
      "source": [
        "criterion = nn.MSELoss()\n",
        "optimizer = optim.Adam(model.parameters(), lr=1e-3)\n",
        "scheduler = optim.lr_scheduler.ReduceLROnPlateau(optimizer, 'min', factor=0.3, patience=2)"
      ],
      "execution_count": 16,
      "outputs": []
    },
    {
      "cell_type": "code",
      "metadata": {
        "colab": {
          "base_uri": "https://localhost:8080/"
        },
        "id": "SYYcEGuffJdo",
        "outputId": "1c7339c9-cc51-4b62-c799-1d62cc2e7fba"
      },
      "source": [
        "n_epochs = 25\n",
        "losses = []\n",
        "\n",
        "for epoch in range(n_epochs):\n",
        "  epoch_loss = []\n",
        "  for users_batch, movies_batch, ratings_batch in batches:\n",
        "\n",
        "    model.zero_grad()\n",
        "    y_pred = model(users_batch.to(device), movies_batch.to(device)).squeeze()\n",
        "    loss = criterion(ratings_batch.to(device), y_pred)\n",
        "\n",
        "    epoch_loss.append(loss.item())\n",
        "    loss.backward()\n",
        "    optimizer.step()\n",
        "\n",
        "  epoch_loss_mean = np.mean(epoch_loss)\n",
        "  losses.append(epoch_loss_mean)   \n",
        "  scheduler.step(epoch_loss_mean)\n",
        "\n",
        "  print(f\"Epoch {epoch}/{n_epochs}, Epoch Loss = {epoch_loss_mean}\")"
      ],
      "execution_count": null,
      "outputs": [
        {
          "output_type": "stream",
          "text": [
            "Epoch 0/25, Epoch Loss = 0.7195781192077876\n"
          ],
          "name": "stdout"
        }
      ]
    },
    {
      "cell_type": "code",
      "metadata": {
        "id": "_7ey2NDm5oNR"
      },
      "source": [
        "torch.save(model, 'modelHW2.pth')\n",
        "torch.save('/content/drive/MyDrive/modelHW2.pth')"
      ],
      "execution_count": null,
      "outputs": []
    },
    {
      "cell_type": "markdown",
      "metadata": {
        "id": "LzavsdMBKehK"
      },
      "source": [
        "#3. Compare: **Matrix Factorization** vs **Deep Learning**"
      ]
    },
    {
      "cell_type": "code",
      "metadata": {
        "colab": {
          "base_uri": "https://localhost:8080/",
          "height": 329
        },
        "id": "Mt0jHjQ2_sAx",
        "outputId": "cd43a2d2-30e0-4b1c-a565-aca904fc34fc"
      },
      "source": [
        "print(\"1. Matrix Factorization Model loss (ALS)\")\n",
        "print(\"-----\"*8)\n",
        "plt.plot(train_losses)\n",
        "plt.plot(test_losses)\n",
        "plt.title('Matrix Factorization Model loss (ALS)')\n",
        "plt.ylabel('Loss')\n",
        "plt.xlabel('Epoch')\n",
        "plt.legend(['Train', 'Test'], loc = 'best')\n",
        "plt.show()"
      ],
      "execution_count": 363,
      "outputs": [
        {
          "output_type": "stream",
          "text": [
            "1. Matrix Factorization Model loss (ALS)\n",
            "----------------------------------------\n"
          ],
          "name": "stdout"
        },
        {
          "output_type": "display_data",
          "data": {
            "image/png": "[encoded data removed]",
            "text/plain": [
              "<Figure size 432x288 with 1 Axes>"
            ]
          },
          "metadata": {
            "tags": [],
            "needs_background": "light"
          }
        }
      ]
    },
    {
      "cell_type": "code",
      "metadata": {
        "colab": {
          "base_uri": "https://localhost:8080/",
          "height": 329
        },
        "id": "NQ64kzQW1foh",
        "outputId": "0fcf891f-b133-4e3a-c87d-18551d92d287"
      },
      "source": [
        "print(\"Matrix Factorization Model loss (ALS) - Test Loss\")\n",
        "print(\"-----\"*10)\n",
        "# plt.plot(train_losses)\n",
        "plt.plot(test_losses)\n",
        "plt.title('Matrix Factorization Model loss (ALS)')\n",
        "plt.ylabel('Loss')\n",
        "plt.xlabel('Epoch')\n",
        "# plt.legend(['Train', 'Test'], loc = 'best')\n",
        "plt.legend('Test', loc = 'best')\n",
        "plt.show()"
      ],
      "execution_count": 368,
      "outputs": [
        {
          "output_type": "stream",
          "text": [
            "Matrix Factorization Model loss (ALS) - Test Loss\n",
            "--------------------------------------------------\n"
          ],
          "name": "stdout"
        },
        {
          "output_type": "display_data",
          "data": {
            "image/png": "[encoded data removed]",
            "text/plain": [
              "<Figure size 432x288 with 1 Axes>"
            ]
          },
          "metadata": {
            "tags": [],
            "needs_background": "light"
          }
        }
      ]
    },
    {
      "cell_type": "code",
      "metadata": {
        "colab": {
          "base_uri": "https://localhost:8080/",
          "height": 329
        },
        "id": "S_L7juOAqWrg",
        "outputId": "96288733-a99d-4773-ebe5-724a46f389d4"
      },
      "source": [
        "print(\"Matrix Factorization Model loss (GD)\")\n",
        "print(\"-----\"*8)\n",
        "plt.plot(train_losses_gd)\n",
        "plt.plot(test_losses_gd)\n",
        "plt.title('Matrix Factorization Model loss (GD)')\n",
        "plt.ylabel('Loss')\n",
        "plt.xlabel('Epoch')\n",
        "plt.legend(['Train', 'Test'], loc = 'best')\n",
        "# plt.legend(['Test'], loc = 'best')\n",
        "plt.show()"
      ],
      "execution_count": 362,
      "outputs": [
        {
          "output_type": "stream",
          "text": [
            "Matrix Factorization Model loss (GD)\n",
            "----------------------------------------\n"
          ],
          "name": "stdout"
        },
        {
          "output_type": "display_data",
          "data": {
            "image/png": "[encoded data removed]",
            "text/plain": [
              "<Figure size 432x288 with 1 Axes>"
            ]
          },
          "metadata": {
            "tags": [],
            "needs_background": "light"
          }
        }
      ]
    },
    {
      "cell_type": "code",
      "metadata": {
        "colab": {
          "base_uri": "https://localhost:8080/",
          "height": 329
        },
        "id": "s_bYvs2hhQpW",
        "outputId": "8a9402ac-16cf-471e-c3fd-573132ea4c66"
      },
      "source": [
        "print(\"Matrix Factorization Model loss (GD) - Test Loss\")\n",
        "print(\"-----\"*10)\n",
        "# plt.plot(train_losses_gd)\n",
        "plt.plot(test_losses_gd)\n",
        "plt.title('Matrix Factorization Model loss (GD)')\n",
        "plt.ylabel('Loss')\n",
        "plt.xlabel('Epoch')\n",
        "# plt.legend(['Train', 'Test'], loc = 'best')\n",
        "plt.legend(['Test'], loc = 'best')\n",
        "plt.show()"
      ],
      "execution_count": 367,
      "outputs": [
        {
          "output_type": "stream",
          "text": [
            "Matrix Factorization Model loss (GD) - Test Loss\n",
            "--------------------------------------------------\n"
          ],
          "name": "stdout"
        },
        {
          "output_type": "display_data",
          "data": {
            "image/png": "[encoded data removed]",
            "text/plain": [
              "<Figure size 432x288 with 1 Axes>"
            ]
          },
          "metadata": {
            "tags": [],
            "needs_background": "light"
          }
        }
      ]
    },
    {
      "cell_type": "code",
      "metadata": {
        "id": "p5DPxhwE_9Ij"
      },
      "source": [
        "print(\"2. Neural Network Model loss\")\n",
        "print(\"---\"*8)\n",
        "plt.plot(losses)\n",
        "plt.title('Neural Netwrok Model loss')\n",
        "plt.ylabel('Loss')\n",
        "plt.xlabel('Epoch')\n",
        "plt.legend(['Train'], loc = 'best')\n",
        "plt.show()"
      ],
      "execution_count": null,
      "outputs": []
    },
    {
      "cell_type": "markdown",
      "metadata": {
        "id": "t0PsMQ_5KfCl"
      },
      "source": [
        "#4. Top-5 recommended movies for a user"
      ]
    },
    {
      "cell_type": "code",
      "metadata": {
        "id": "phzdeYuzRQW4"
      },
      "source": [
        "# Function: returns a dataframe of unique movieIds\n",
        "def get_list_of_all_movies(df_train):\n",
        "  return pd.DataFrame(data=df_train['movieId'].unique(), columns=['movieId']) #movieIds \n",
        "\n",
        "movieIds = get_list_of_all_movies(train)\n",
        "\n",
        "# Function: recommends movies\n",
        "def recommend_movies(userID, df_movieIds, df_train, technique, n=5, df_preds_MF=None, model=None):\n",
        "\n",
        "  \"\"\" Function: returns top-5 recommended movies for userID\n",
        "      args:\n",
        "          userID: userId in training set\n",
        "          df_movieIds: all unique movies in the training set (DataFrame of all unique movieId's) \n",
        "          df_train: training set (DataFrame with at least three columns: userId, movieId, rating)\n",
        "          technique: 'NN' for Neural Network and 'MF' for Matrix Factorization\n",
        "          df_preds_MF: reconstructed matrix from matrix factorization if technique == 'MF'\n",
        "          model: NN model if technique == 'NN'\n",
        "  \"\"\"\n",
        "\n",
        "  user_row_number = userID - 1  #<<<<<<<<<<<<<< Needs revision\n",
        "\n",
        "  if technique == 'MF':\n",
        "    #1. get all best sorted movie ids\n",
        "    sorted_user_predictions = df_preds_MF[df_preds_MF.index==userID].sort_values(by=userID, axis=1, ascending=False)\n",
        "    sorted_user_predictions = pd.DataFrame(np.transpose(sorted_user_predictions.values), columns=sorted_user_predictions.index, index=sorted_user_predictions.columns)\n",
        "\n",
        "  elif technique != 'NN':\n",
        "    print(\"You must enter the 'technique' type correctly: 'MF' for Matrix Factorization or 'NN' for Neural Network\")\n",
        "    return;\n",
        "\n",
        "  #2. >get watched movies by our user + sort them by rating\n",
        "  movies_watched = df_train[df_train.userId == (userID)].sort_values(['rating'], ascending=False) # get all userId:\tmovieId, rating\n",
        "\n",
        "  #3. >get NOT watched movies by our user\n",
        "  movies_not_watched = df_movieIds[~df_movieIds['movieId'].isin(movies_watched['movieId'])]\n",
        "\n",
        "  if technique == 'NN':\n",
        "    user = [userID] * len(movies_not_watched)\n",
        "    new_movies = movies_not_watched['movieId'].tolist()\n",
        "\n",
        "    user = torch.tensor(user).to(device=device, dtype=torch.long)\n",
        "    new_movies = torch.tensor(new_movies).to(device=device, dtype=torch.long)\n",
        "\n",
        "    rating_preds = model(user, new_movies).squeeze() # a list of predicted ratings\n",
        "    new_movies = new_movies.cpu().detach().tolist()\n",
        "    rating_preds = rating_preds.cpu().detach().tolist()\n",
        "    data = {\"movieId\":new_movies, userID:rating_preds}\n",
        "    sorted_user_predictions = pd.DataFrame(data)\n",
        "  \n",
        "  #4. get predictions for non-watched movies\n",
        "  recommendations = (movies_not_watched).merge(\n",
        "      pd.DataFrame(sorted_user_predictions).reset_index(),\n",
        "      how = 'left', left_on = 'movieId', right_on = 'movieId').rename(\n",
        "          columns = {userID: 'Predictions'}).sort_values(\n",
        "              'Predictions', ascending = False).iloc[:n]\n",
        "  \n",
        "  if technique == 'NN':\n",
        "    recommendations.drop(columns='index') \n",
        "\n",
        "  return movies_watched, recommendations\n",
        "\n",
        "def predictMF(userID, P, Q, df_train):\n",
        "  # Get the predictions from Matrix Factorization technique.\n",
        "  y_predicted = P @ Q.T\n",
        "  preds_df = pd.DataFrame(y_predicted, columns = df_movie_features.columns)\n",
        "\n",
        "  # Get top 5 recommneded movies for user with id \"330\"\n",
        "  y_test_df, y_predicted_df = recommend_movies(userID, movieIds, df_train, technique='MF', df_preds_MF=preds_df)\n",
        "\n",
        "  return y_test_df, y_predicted_df\n",
        "\n",
        "def predictNN(userID, model, df_train):\n",
        "  # Get top 5 recommneded movies for user with id \"330\" with NN technique\n",
        "  y_test_df, y_predicted_df = recommend_movies(userID, movieIds, df_train, technique='NN', model=model)\n",
        "\n",
        "  return y_test_df, y_predicted_df"
      ],
      "execution_count": null,
      "outputs": []
    },
    {
      "cell_type": "markdown",
      "metadata": {
        "id": "QQiI8XYbba4E"
      },
      "source": [
        "##1. Matrix Factorization"
      ]
    },
    {
      "cell_type": "code",
      "metadata": {
        "id": "PvUG5L1_b-yB"
      },
      "source": [
        "userID = 330"
      ],
      "execution_count": null,
      "outputs": []
    },
    {
      "cell_type": "code",
      "metadata": {
        "id": "DGyI9U-lbk5s"
      },
      "source": [
        "#ALS\n",
        "top_liked_by_user, new_predicted_to_user = predictMF(userID, P, Q, train)"
      ],
      "execution_count": 347,
      "outputs": []
    },
    {
      "cell_type": "code",
      "metadata": {
        "colab": {
          "base_uri": "https://localhost:8080/",
          "height": 254
        },
        "id": "dkMK2PzcZ35x",
        "outputId": "dc1f86cf-be36-4df4-b473-2aa9801adde1"
      },
      "source": [
        "print(\"****\" * 8)\n",
        "print(f\"Top 5 liked movies by user {userID}\")\n",
        "print(\"****\" * 8)\n",
        "\n",
        "# 1/ Real Ratings\n",
        "top_liked_by_user.head()"
      ],
      "execution_count": 38,
      "outputs": [
        {
          "output_type": "stream",
          "text": [
            "********************************\n",
            "Top 5 liked movies by user 330\n",
            "********************************\n"
          ],
          "name": "stdout"
        },
        {
          "output_type": "execute_result",
          "data": {
            "text/html": [
              "<div>\n",
              "<style scoped>\n",
              "    .dataframe tbody tr th:only-of-type {\n",
              "        vertical-align: middle;\n",
              "    }\n",
              "\n",
              "    .dataframe tbody tr th {\n",
              "        vertical-align: top;\n",
              "    }\n",
              "\n",
              "    .dataframe thead th {\n",
              "        text-align: right;\n",
              "    }\n",
              "</style>\n",
              "<table border=\"1\" class=\"dataframe\">\n",
              "  <thead>\n",
              "    <tr style=\"text-align: right;\">\n",
              "      <th></th>\n",
              "      <th>userId</th>\n",
              "      <th>movieId</th>\n",
              "      <th>rating</th>\n",
              "    </tr>\n",
              "  </thead>\n",
              "  <tbody>\n",
              "    <tr>\n",
              "      <th>32806</th>\n",
              "      <td>330</td>\n",
              "      <td>17</td>\n",
              "      <td>5.0</td>\n",
              "    </tr>\n",
              "    <tr>\n",
              "      <th>32948</th>\n",
              "      <td>330</td>\n",
              "      <td>588</td>\n",
              "      <td>5.0</td>\n",
              "    </tr>\n",
              "    <tr>\n",
              "      <th>32820</th>\n",
              "      <td>330</td>\n",
              "      <td>47</td>\n",
              "      <td>5.0</td>\n",
              "    </tr>\n",
              "    <tr>\n",
              "      <th>32894</th>\n",
              "      <td>330</td>\n",
              "      <td>296</td>\n",
              "      <td>5.0</td>\n",
              "    </tr>\n",
              "    <tr>\n",
              "      <th>32821</th>\n",
              "      <td>330</td>\n",
              "      <td>50</td>\n",
              "      <td>5.0</td>\n",
              "    </tr>\n",
              "  </tbody>\n",
              "</table>\n",
              "</div>"
            ],
            "text/plain": [
              "       userId  movieId  rating\n",
              "32806     330       17     5.0\n",
              "32948     330      588     5.0\n",
              "32820     330       47     5.0\n",
              "32894     330      296     5.0\n",
              "32821     330       50     5.0"
            ]
          },
          "metadata": {
            "tags": []
          },
          "execution_count": 38
        }
      ]
    },
    {
      "cell_type": "code",
      "metadata": {
        "colab": {
          "base_uri": "https://localhost:8080/",
          "height": 254
        },
        "id": "SpKr47K9y6-4",
        "outputId": "4a29a8cc-dfe2-4c3f-8318-ae9529d2fdbd"
      },
      "source": [
        "print(\"====\" * 13)\n",
        "print(f\"Top 5 movie recommendations for user {userID} -- TEST SET\")\n",
        "print(\"====\" * 13)\n",
        "new_predicted_to_user_TRUE = test[test.userId == (userID)].sort_values(['rating'], ascending=False) # get all userId:\tmovieId, rating\n",
        "new_predicted_to_user_TRUE.head()"
      ],
      "execution_count": 28,
      "outputs": [
        {
          "output_type": "stream",
          "text": [
            "====================================================\n",
            "Top 5 movie recommendations for user 330 -- TEST SET\n",
            "====================================================\n"
          ],
          "name": "stdout"
        },
        {
          "output_type": "execute_result",
          "data": {
            "text/html": [
              "<div>\n",
              "<style scoped>\n",
              "    .dataframe tbody tr th:only-of-type {\n",
              "        vertical-align: middle;\n",
              "    }\n",
              "\n",
              "    .dataframe tbody tr th {\n",
              "        vertical-align: top;\n",
              "    }\n",
              "\n",
              "    .dataframe thead th {\n",
              "        text-align: right;\n",
              "    }\n",
              "</style>\n",
              "<table border=\"1\" class=\"dataframe\">\n",
              "  <thead>\n",
              "    <tr style=\"text-align: right;\">\n",
              "      <th></th>\n",
              "      <th>userId</th>\n",
              "      <th>movieId</th>\n",
              "      <th>rating</th>\n",
              "    </tr>\n",
              "  </thead>\n",
              "  <tbody>\n",
              "    <tr>\n",
              "      <th>8282</th>\n",
              "      <td>330</td>\n",
              "      <td>349</td>\n",
              "      <td>5.0</td>\n",
              "    </tr>\n",
              "    <tr>\n",
              "      <th>8253</th>\n",
              "      <td>330</td>\n",
              "      <td>110</td>\n",
              "      <td>5.0</td>\n",
              "    </tr>\n",
              "    <tr>\n",
              "      <th>8270</th>\n",
              "      <td>330</td>\n",
              "      <td>262</td>\n",
              "      <td>4.0</td>\n",
              "    </tr>\n",
              "    <tr>\n",
              "      <th>8289</th>\n",
              "      <td>330</td>\n",
              "      <td>421</td>\n",
              "      <td>4.0</td>\n",
              "    </tr>\n",
              "    <tr>\n",
              "      <th>8271</th>\n",
              "      <td>330</td>\n",
              "      <td>272</td>\n",
              "      <td>4.0</td>\n",
              "    </tr>\n",
              "  </tbody>\n",
              "</table>\n",
              "</div>"
            ],
            "text/plain": [
              "      userId  movieId  rating\n",
              "8282     330      349     5.0\n",
              "8253     330      110     5.0\n",
              "8270     330      262     4.0\n",
              "8289     330      421     4.0\n",
              "8271     330      272     4.0"
            ]
          },
          "metadata": {
            "tags": []
          },
          "execution_count": 28
        }
      ]
    },
    {
      "cell_type": "code",
      "metadata": {
        "colab": {
          "base_uri": "https://localhost:8080/",
          "height": 254
        },
        "id": "XvhO3K0bZ356",
        "outputId": "85164ff1-3b1e-48fb-85b2-d2095975f92d"
      },
      "source": [
        "print(\"----\" * 13)\n",
        "print(f\"Top 5 movie recommendations for user {userID} -- MF (ALS)\")\n",
        "print(\"----\" * 13)\n",
        "\n",
        "# 2/ Predicted Rating s\n",
        "new_predicted_to_user.head()"
      ],
      "execution_count": 355,
      "outputs": [
        {
          "output_type": "stream",
          "text": [
            "----------------------------------------------------\n",
            "Top 5 movie recommendations for user 330 -- MF (ALS)\n",
            "----------------------------------------------------\n"
          ],
          "name": "stdout"
        },
        {
          "output_type": "execute_result",
          "data": {
            "text/html": [
              "<div>\n",
              "<style scoped>\n",
              "    .dataframe tbody tr th:only-of-type {\n",
              "        vertical-align: middle;\n",
              "    }\n",
              "\n",
              "    .dataframe tbody tr th {\n",
              "        vertical-align: top;\n",
              "    }\n",
              "\n",
              "    .dataframe thead th {\n",
              "        text-align: right;\n",
              "    }\n",
              "</style>\n",
              "<table border=\"1\" class=\"dataframe\">\n",
              "  <thead>\n",
              "    <tr style=\"text-align: right;\">\n",
              "      <th></th>\n",
              "      <th>movieId</th>\n",
              "      <th>Predictions</th>\n",
              "    </tr>\n",
              "  </thead>\n",
              "  <tbody>\n",
              "    <tr>\n",
              "      <th>170</th>\n",
              "      <td>457</td>\n",
              "      <td>2.987199</td>\n",
              "    </tr>\n",
              "    <tr>\n",
              "      <th>300</th>\n",
              "      <td>608</td>\n",
              "      <td>2.850280</td>\n",
              "    </tr>\n",
              "    <tr>\n",
              "      <th>472</th>\n",
              "      <td>349</td>\n",
              "      <td>2.155131</td>\n",
              "    </tr>\n",
              "    <tr>\n",
              "      <th>285</th>\n",
              "      <td>377</td>\n",
              "      <td>2.045778</td>\n",
              "    </tr>\n",
              "    <tr>\n",
              "      <th>132</th>\n",
              "      <td>480</td>\n",
              "      <td>2.032174</td>\n",
              "    </tr>\n",
              "  </tbody>\n",
              "</table>\n",
              "</div>"
            ],
            "text/plain": [
              "     movieId  Predictions\n",
              "170      457     2.987199\n",
              "300      608     2.850280\n",
              "472      349     2.155131\n",
              "285      377     2.045778\n",
              "132      480     2.032174"
            ]
          },
          "metadata": {
            "tags": []
          },
          "execution_count": 355
        }
      ]
    },
    {
      "cell_type": "code",
      "metadata": {
        "id": "Ve7gTCyAnHPu"
      },
      "source": [
        "#GD\n",
        "_, new_predicted_to_user = predictMF(userID, P2, Q2, train)"
      ],
      "execution_count": 356,
      "outputs": []
    },
    {
      "cell_type": "code",
      "metadata": {
        "colab": {
          "base_uri": "https://localhost:8080/",
          "height": 254
        },
        "id": "sc9L-zv1nCpV",
        "outputId": "a4be1aff-b382-4c9c-e39c-cb5e55a9dd85"
      },
      "source": [
        "print(\"----\" * 13)\n",
        "print(f\"Top 5 movie recommendations for user {userID} -- MF (GD)\")\n",
        "print(\"----\" * 13)\n",
        "\n",
        "# 2/ Predicted Rating s\n",
        "new_predicted_to_user.head()"
      ],
      "execution_count": 26,
      "outputs": [
        {
          "output_type": "stream",
          "text": [
            "----------------------------------------------------\n",
            "Top 5 movie recommendations for user 330 -- MF (GD)\n",
            "----------------------------------------------------\n"
          ],
          "name": "stdout"
        },
        {
          "output_type": "execute_result",
          "data": {
            "text/html": [
              "<div>\n",
              "<style scoped>\n",
              "    .dataframe tbody tr th:only-of-type {\n",
              "        vertical-align: middle;\n",
              "    }\n",
              "\n",
              "    .dataframe tbody tr th {\n",
              "        vertical-align: top;\n",
              "    }\n",
              "\n",
              "    .dataframe thead th {\n",
              "        text-align: right;\n",
              "    }\n",
              "</style>\n",
              "<table border=\"1\" class=\"dataframe\">\n",
              "  <thead>\n",
              "    <tr style=\"text-align: right;\">\n",
              "      <th></th>\n",
              "      <th>movieId</th>\n",
              "      <th>index</th>\n",
              "      <th>Predictions</th>\n",
              "    </tr>\n",
              "  </thead>\n",
              "  <tbody>\n",
              "    <tr>\n",
              "      <th>2689</th>\n",
              "      <td>2937</td>\n",
              "      <td>2689</td>\n",
              "      <td>4.187989</td>\n",
              "    </tr>\n",
              "    <tr>\n",
              "      <th>2628</th>\n",
              "      <td>2351</td>\n",
              "      <td>2628</td>\n",
              "      <td>4.137471</td>\n",
              "    </tr>\n",
              "    <tr>\n",
              "      <th>1062</th>\n",
              "      <td>678</td>\n",
              "      <td>1062</td>\n",
              "      <td>4.104546</td>\n",
              "    </tr>\n",
              "    <tr>\n",
              "      <th>1362</th>\n",
              "      <td>58559</td>\n",
              "      <td>1362</td>\n",
              "      <td>4.100732</td>\n",
              "    </tr>\n",
              "    <tr>\n",
              "      <th>3793</th>\n",
              "      <td>3677</td>\n",
              "      <td>3793</td>\n",
              "      <td>4.096542</td>\n",
              "    </tr>\n",
              "  </tbody>\n",
              "</table>\n",
              "</div>"
            ],
            "text/plain": [
              "      movieId  index  Predictions\n",
              "2689     2937   2689     4.187989\n",
              "2628     2351   2628     4.137471\n",
              "1062      678   1062     4.104546\n",
              "1362    58559   1362     4.100732\n",
              "3793     3677   3793     4.096542"
            ]
          },
          "metadata": {
            "tags": []
          },
          "execution_count": 26
        }
      ]
    },
    {
      "cell_type": "markdown",
      "metadata": {
        "id": "hKTpSmJQbgDr"
      },
      "source": [
        "##2. Neural Network Model"
      ]
    },
    {
      "cell_type": "code",
      "metadata": {
        "id": "CPDn_64lblSq"
      },
      "source": [
        "top_liked_by_user, new_predicted_to_user = predictNN(userID, model, train)"
      ],
      "execution_count": null,
      "outputs": []
    },
    {
      "cell_type": "code",
      "metadata": {
        "colab": {
          "base_uri": "https://localhost:8080/",
          "height": 254
        },
        "id": "-mYzDGcObgDs",
        "outputId": "0b4c0f23-965c-4ca0-d808-3c54e15881a0"
      },
      "source": [
        "print(\"****\" * 8)\n",
        "print(f\"Top 5 liked movies by user {userID}\")\n",
        "print(\"****\" * 8)\n",
        "\n",
        "# 1/ Real Ratings\n",
        "top_liked_by_user.head()"
      ],
      "execution_count": 37,
      "outputs": [
        {
          "output_type": "stream",
          "text": [
            "********************************\n",
            "Top 5 liked movies by user 330\n",
            "********************************\n"
          ],
          "name": "stdout"
        },
        {
          "output_type": "execute_result",
          "data": {
            "text/html": [
              "<div>\n",
              "<style scoped>\n",
              "    .dataframe tbody tr th:only-of-type {\n",
              "        vertical-align: middle;\n",
              "    }\n",
              "\n",
              "    .dataframe tbody tr th {\n",
              "        vertical-align: top;\n",
              "    }\n",
              "\n",
              "    .dataframe thead th {\n",
              "        text-align: right;\n",
              "    }\n",
              "</style>\n",
              "<table border=\"1\" class=\"dataframe\">\n",
              "  <thead>\n",
              "    <tr style=\"text-align: right;\">\n",
              "      <th></th>\n",
              "      <th>userId</th>\n",
              "      <th>movieId</th>\n",
              "      <th>rating</th>\n",
              "    </tr>\n",
              "  </thead>\n",
              "  <tbody>\n",
              "    <tr>\n",
              "      <th>32806</th>\n",
              "      <td>330</td>\n",
              "      <td>17</td>\n",
              "      <td>5.0</td>\n",
              "    </tr>\n",
              "    <tr>\n",
              "      <th>32948</th>\n",
              "      <td>330</td>\n",
              "      <td>588</td>\n",
              "      <td>5.0</td>\n",
              "    </tr>\n",
              "    <tr>\n",
              "      <th>32820</th>\n",
              "      <td>330</td>\n",
              "      <td>47</td>\n",
              "      <td>5.0</td>\n",
              "    </tr>\n",
              "    <tr>\n",
              "      <th>32894</th>\n",
              "      <td>330</td>\n",
              "      <td>296</td>\n",
              "      <td>5.0</td>\n",
              "    </tr>\n",
              "    <tr>\n",
              "      <th>32821</th>\n",
              "      <td>330</td>\n",
              "      <td>50</td>\n",
              "      <td>5.0</td>\n",
              "    </tr>\n",
              "  </tbody>\n",
              "</table>\n",
              "</div>"
            ],
            "text/plain": [
              "       userId  movieId  rating\n",
              "32806     330       17     5.0\n",
              "32948     330      588     5.0\n",
              "32820     330       47     5.0\n",
              "32894     330      296     5.0\n",
              "32821     330       50     5.0"
            ]
          },
          "metadata": {
            "tags": []
          },
          "execution_count": 37
        }
      ]
    },
    {
      "cell_type": "code",
      "metadata": {
        "colab": {
          "base_uri": "https://localhost:8080/",
          "height": 254
        },
        "id": "wBQhAR5x6ysg",
        "outputId": "73c463db-6454-4e14-f9d2-81bdae681a3d"
      },
      "source": [
        "print(\"====\" * 13)\n",
        "print(f\"Top 5 movie recommendations for user {userID} -- TEST SET\")\n",
        "print(\"====\" * 13)\n",
        "new_predicted_to_user_TRUE = test[test.userId == (userID)].sort_values(['rating'], ascending=False) # get all userId:\tmovieId, rating\n",
        "new_predicted_to_user_TRUE.head()"
      ],
      "execution_count": 36,
      "outputs": [
        {
          "output_type": "stream",
          "text": [
            "====================================================\n",
            "Top 5 movie recommendations for user 330 -- TEST SET\n",
            "====================================================\n"
          ],
          "name": "stdout"
        },
        {
          "output_type": "execute_result",
          "data": {
            "text/html": [
              "<div>\n",
              "<style scoped>\n",
              "    .dataframe tbody tr th:only-of-type {\n",
              "        vertical-align: middle;\n",
              "    }\n",
              "\n",
              "    .dataframe tbody tr th {\n",
              "        vertical-align: top;\n",
              "    }\n",
              "\n",
              "    .dataframe thead th {\n",
              "        text-align: right;\n",
              "    }\n",
              "</style>\n",
              "<table border=\"1\" class=\"dataframe\">\n",
              "  <thead>\n",
              "    <tr style=\"text-align: right;\">\n",
              "      <th></th>\n",
              "      <th>userId</th>\n",
              "      <th>movieId</th>\n",
              "      <th>rating</th>\n",
              "    </tr>\n",
              "  </thead>\n",
              "  <tbody>\n",
              "    <tr>\n",
              "      <th>8282</th>\n",
              "      <td>330</td>\n",
              "      <td>349</td>\n",
              "      <td>5.0</td>\n",
              "    </tr>\n",
              "    <tr>\n",
              "      <th>8253</th>\n",
              "      <td>330</td>\n",
              "      <td>110</td>\n",
              "      <td>5.0</td>\n",
              "    </tr>\n",
              "    <tr>\n",
              "      <th>8270</th>\n",
              "      <td>330</td>\n",
              "      <td>262</td>\n",
              "      <td>4.0</td>\n",
              "    </tr>\n",
              "    <tr>\n",
              "      <th>8289</th>\n",
              "      <td>330</td>\n",
              "      <td>421</td>\n",
              "      <td>4.0</td>\n",
              "    </tr>\n",
              "    <tr>\n",
              "      <th>8271</th>\n",
              "      <td>330</td>\n",
              "      <td>272</td>\n",
              "      <td>4.0</td>\n",
              "    </tr>\n",
              "  </tbody>\n",
              "</table>\n",
              "</div>"
            ],
            "text/plain": [
              "      userId  movieId  rating\n",
              "8282     330      349     5.0\n",
              "8253     330      110     5.0\n",
              "8270     330      262     4.0\n",
              "8289     330      421     4.0\n",
              "8271     330      272     4.0"
            ]
          },
          "metadata": {
            "tags": []
          },
          "execution_count": 36
        }
      ]
    },
    {
      "cell_type": "code",
      "metadata": {
        "id": "gOYOXcukbgDt"
      },
      "source": [
        "print(\"----\" * 12)\n",
        "print(f\"Top 5 movie recommendations for user {userID} -- NN\")\n",
        "print(\"----\" * 12)\n",
        "\n",
        "# 2/ Predicted Rating s\n",
        "new_predicted_to_user.head()"
      ],
      "execution_count": null,
      "outputs": []
    },
    {
      "cell_type": "markdown",
      "metadata": {
        "id": "HJNmgor5amX6"
      },
      "source": [
        "#BROUILLONS [x]"
      ]
    },
    {
      "cell_type": "code",
      "metadata": {
        "id": "wfMi3lVk1MRV"
      },
      "source": [
        "#BROUILLONS\n",
        "# for epoch in range(20):\n",
        "\n",
        "#   for idx_user, p in enumerate(P): #a user latent vector \n",
        "#     for idx_item, p in enumerate(Q): #a movie latent vector\n",
        "      \n",
        "#       user_id = unique_users[idx_user]\n",
        "#       item_id = unique_movies[idx_item]\n",
        "      \n",
        "#       user_row = train.loc[train['userId'] == user_id]\n",
        "#       item =  user_row.loc[user_row['movieId'] == item_id]\n",
        "                          \n",
        "#       y = item['rating'].item()\n",
        "#       y_pred = np.dot(p,q)\n",
        "\n",
        "#       loss = squared_error_loss(y, y_pred, p, q)\n",
        "#       print(\"Loss: \", loss)\n",
        "\n",
        "#       loss.backward()\n",
        "\n",
        "\n",
        "#       with torch.no_grad():\n",
        "\n",
        "\n",
        "#         P.grad.zero_()\n",
        "#         Q.grad.zero_()\n",
        "\n",
        "# df_movie_features_sparse = csr_matrix(df_movie_features)\n",
        "# from scipy.sparse import coo_matrix\n",
        "\n",
        "# coo = coo_matrix(df_movie_features.values)\n",
        "# values = torch.FloatTensor(coo.data)\n",
        "# indices = torch.LongTensor(np.vstack((coo.row, coo.col)))\n",
        "# shape = coo.shape\n",
        "\n",
        "# # tensor = torch.sparse.FloatTensor(indices, values, torch.Size(shape))\n",
        "# sparse_ratings_tensor_matrix = torch.sparse_coo_tensor(indices, values, torch.Size(shape))\n",
        "\n",
        "\n",
        "\n",
        "# n_epochs = 20\n",
        "# C = 0.5\n",
        "# k = 50\n",
        "# lr = 1e-3\n",
        "\n",
        "# #user latent matrix\n",
        "# P = torch.randn(U, k, device=device, dtype=torch.float64)  \n",
        "\n",
        "# #item latent matrix\n",
        "# Q = torch.randn(I, k, device=device, dtype=torch.float64)  \n",
        "\n",
        "# #ratings dense matrix\n",
        "# Y = torch.from_numpy(df_movie_features.values)\n",
        "\n",
        "# for epoch in range(n_epochs):\n",
        "\n",
        "#       # P=P−α(λP−((R-P*Q.T)∘M)Q)\n",
        "#       Y_pred = P @ Q.T #inner dot products                 \n",
        "#       error = Y-Y_pred\n",
        "#       LOSS = squared_error_loss(error, C)\n",
        "#       print(f\"\\nEpoch: {epoch}/{n_epochs}, LOSS = {LOSS.mean()}\")\n",
        "      \n",
        "#       P -= (lr * (C*P - (error * M)   @ Q))\n",
        "#       Q -= (lr * (C*Q - (error * M).T @ P))\n",
        "\n",
        "\n",
        "      # bu -= (lr * (C*bu - error))\n",
        "      # bi -= (lr * (C*bi - error.T))\n"
      ],
      "execution_count": null,
      "outputs": []
    },
    {
      "cell_type": "code",
      "metadata": {
        "id": "EkinV91rTu3n"
      },
      "source": [
        "# def RMSE(error, A, B, C=0.2, bu=None, bi=None): \n",
        "        \n",
        "#   squared_magnitude_P = (A @ A.T).sum()\n",
        "#   squared_magnitude_Q = (B @ B.T).sum()\n",
        "\n",
        "#   squared_magnitude_bu = 0\n",
        "#   squared_magnitude_bi = 0\n",
        "\n",
        "#   if (bu is not None and bi is not None):\n",
        "#     squared_magnitude_bu = (bu @ bu.T).sum()\n",
        "#     squared_magnitude_bi = (bi @ bi.T).sum()\n",
        "\n",
        "#   regularization = C*(squared_magnitude_P + squared_magnitude_Q + squared_magnitude_bu + squared_magnitude_bi)\n",
        "#   loss = ((error**2).sum() + regularization)/(total_ratings)\n",
        "#   loss = np.sqrt(loss)                                                                   \n",
        "#   # Note: total_ratings or |u,i| is the total number of ratings in the dataset.\n",
        "\n",
        "#   return loss"
      ],
      "execution_count": null,
      "outputs": []
    }
  ]
}